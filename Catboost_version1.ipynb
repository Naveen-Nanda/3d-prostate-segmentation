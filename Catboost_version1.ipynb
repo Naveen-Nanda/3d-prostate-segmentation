{
  "nbformat": 4,
  "nbformat_minor": 0,
  "metadata": {
    "colab": {
      "name": "Catboost_version1.ipynb",
      "provenance": [],
      "collapsed_sections": [],
      "authorship_tag": "ABX9TyNkUaAjIvBdQmte0vQMlKL9",
      "include_colab_link": true
    },
    "kernelspec": {
      "name": "python3",
      "display_name": "Python 3"
    },
    "language_info": {
      "name": "python"
    },
    "widgets": {
      "application/vnd.jupyter.widget-state+json": {
        "ac3445eb8f0a4b90950753fafa6f667c": {
          "model_module": "catboost-widget",
          "model_name": "CatboostWidgetModel",
          "model_module_version": "^1.0.0",
          "state": {
            "_view_name": "CatboostWidgetView",
            "_dom_classes": [],
            "_model_name": "CatboostWidgetModel",
            "data": {
              "catboost_info": {
                "content": {
                  "data": {
                    "meta": {
                      "name": "experiment",
                      "parameters": "",
                      "test_metrics": [
                        {
                          "best_value": "Min",
                          "name": "MultiClass"
                        },
                        {
                          "best_value": "Max",
                          "name": "AUC:type=Mu"
                        },
                        {
                          "best_value": "Max",
                          "name": "Accuracy"
                        }
                      ],
                      "learn_sets": [
                        "learn"
                      ],
                      "launch_mode": "Train",
                      "learn_metrics": [
                        {
                          "best_value": "Min",
                          "name": "MultiClass"
                        },
                        {
                          "best_value": "Max",
                          "name": "Accuracy"
                        }
                      ],
                      "iteration_count": 500,
                      "test_sets": [
                        "test"
                      ]
                    },
                    "iterations": [
                      {
                        "test": [
                          0.8662116873,
                          0.4583333333,
                          0.75
                        ],
                        "passed_time": 0.05396820686,
                        "iteration": 0,
                        "remaining_time": 26.93013522,
                        "learn": [
                          0.668109071,
                          0.9166666667
                        ]
                      },
                      {
                        "test": [
                          0.7981796445,
                          0.4226190476,
                          0.6666666667
                        ],
                        "passed_time": 0.05565808621,
                        "iteration": 1,
                        "remaining_time": 13.85886347,
                        "learn": [
                          0.5304961894,
                          0.9583333333
                        ]
                      },
                      {
                        "test": [
                          0.7361167213,
                          0.4285714286,
                          0.8333333333
                        ],
                        "passed_time": 0.05723447695,
                        "iteration": 2,
                        "remaining_time": 9.481845015,
                        "learn": [
                          0.397949641,
                          0.9791666667
                        ]
                      },
                      {
                        "test": [
                          0.6840512297,
                          0.494047619,
                          0.75
                        ],
                        "passed_time": 0.06309518743,
                        "iteration": 3,
                        "remaining_time": 7.823803242,
                        "learn": [
                          0.3256319534,
                          0.9791666667
                        ]
                      },
                      {
                        "test": [
                          0.6490364415,
                          0.494047619,
                          0.75
                        ],
                        "passed_time": 0.06470675677,
                        "iteration": 4,
                        "remaining_time": 6.40596892,
                        "learn": [
                          0.2625300589,
                          1
                        ]
                      },
                      {
                        "test": [
                          0.5688315108,
                          0.5,
                          0.8333333333
                        ],
                        "passed_time": 0.06625853632,
                        "iteration": 5,
                        "remaining_time": 5.455286157,
                        "learn": [
                          0.2121168348,
                          1
                        ]
                      },
                      {
                        "test": [
                          0.5044699781,
                          0.5,
                          0.8333333333
                        ],
                        "passed_time": 0.07232532831,
                        "iteration": 6,
                        "remaining_time": 5.093769551,
                        "learn": [
                          0.1768262848,
                          1
                        ]
                      },
                      {
                        "test": [
                          0.4545784662,
                          0.5,
                          0.9166666667
                        ],
                        "passed_time": 0.07382401177,
                        "iteration": 7,
                        "remaining_time": 4.540176724,
                        "learn": [
                          0.1585754825,
                          1
                        ]
                      },
                      {
                        "test": [
                          0.4447523937,
                          0.5,
                          0.8333333333
                        ],
                        "passed_time": 0.0753387277,
                        "iteration": 8,
                        "remaining_time": 4.110146145,
                        "learn": [
                          0.1323819278,
                          1
                        ]
                      },
                      {
                        "test": [
                          0.4337550839,
                          0.5,
                          0.8333333333
                        ],
                        "passed_time": 0.08106721709,
                        "iteration": 9,
                        "remaining_time": 3.972293638,
                        "learn": [
                          0.1105453118,
                          1
                        ]
                      },
                      {
                        "test": [
                          0.4315693784,
                          0.5,
                          0.75
                        ],
                        "passed_time": 0.08257585477,
                        "iteration": 10,
                        "remaining_time": 3.670872089,
                        "learn": [
                          0.09478812768,
                          1
                        ]
                      },
                      {
                        "test": [
                          0.4092347606,
                          0.5,
                          0.75
                        ],
                        "passed_time": 0.08888590006,
                        "iteration": 11,
                        "remaining_time": 3.614693269,
                        "learn": [
                          0.08408382758,
                          1
                        ]
                      },
                      {
                        "test": [
                          0.4087946331,
                          0.5,
                          0.75
                        ],
                        "passed_time": 0.09050600496,
                        "iteration": 12,
                        "remaining_time": 3.390494186,
                        "learn": [
                          0.07364828265,
                          1
                        ]
                      },
                      {
                        "test": [
                          0.4108651219,
                          0.5,
                          0.75
                        ],
                        "passed_time": 0.09203445786,
                        "iteration": 13,
                        "remaining_time": 3.194910466,
                        "learn": [
                          0.06672119281,
                          1
                        ]
                      },
                      {
                        "test": [
                          0.4092425996,
                          0.5,
                          0.75
                        ],
                        "passed_time": 0.09781604606,
                        "iteration": 14,
                        "remaining_time": 3.162718823,
                        "learn": [
                          0.06312621724,
                          1
                        ]
                      },
                      {
                        "test": [
                          0.4118050372,
                          0.5,
                          0.75
                        ],
                        "passed_time": 0.09982324458,
                        "iteration": 15,
                        "remaining_time": 3.019653148,
                        "learn": [
                          0.05927413209,
                          1
                        ]
                      },
                      {
                        "test": [
                          0.4027980903,
                          0.5,
                          0.75
                        ],
                        "passed_time": 0.1012482781,
                        "iteration": 16,
                        "remaining_time": 2.876642254,
                        "learn": [
                          0.05362280096,
                          1
                        ]
                      },
                      {
                        "test": [
                          0.4024068735,
                          0.5,
                          0.75
                        ],
                        "passed_time": 0.1026701243,
                        "iteration": 17,
                        "remaining_time": 2.749277773,
                        "learn": [
                          0.0505698016,
                          1
                        ]
                      },
                      {
                        "test": [
                          0.4035710997,
                          0.5,
                          0.75
                        ],
                        "passed_time": 0.1041621363,
                        "iteration": 18,
                        "remaining_time": 2.636946714,
                        "learn": [
                          0.04723156789,
                          1
                        ]
                      },
                      {
                        "test": [
                          0.405607549,
                          0.5,
                          0.75
                        ],
                        "passed_time": 0.1055725706,
                        "iteration": 19,
                        "remaining_time": 2.533741694,
                        "learn": [
                          0.04512870407,
                          1
                        ]
                      },
                      {
                        "test": [
                          0.401061271,
                          0.5,
                          0.75
                        ],
                        "passed_time": 0.1069558181,
                        "iteration": 20,
                        "remaining_time": 2.439611281,
                        "learn": [
                          0.04204274244,
                          1
                        ]
                      },
                      {
                        "test": [
                          0.4060579151,
                          0.5,
                          0.75
                        ],
                        "passed_time": 0.1084837606,
                        "iteration": 21,
                        "remaining_time": 2.357056253,
                        "learn": [
                          0.03944556036,
                          1
                        ]
                      },
                      {
                        "test": [
                          0.417207073,
                          0.5,
                          0.75
                        ],
                        "passed_time": 0.1091385678,
                        "iteration": 22,
                        "remaining_time": 2.263438993,
                        "learn": [
                          0.03550433492,
                          1
                        ]
                      },
                      {
                        "test": [
                          0.4175699107,
                          0.5,
                          0.75
                        ],
                        "passed_time": 0.1105738992,
                        "iteration": 23,
                        "remaining_time": 2.193049,
                        "learn": [
                          0.03387650273,
                          1
                        ]
                      },
                      {
                        "test": [
                          0.4082603194,
                          0.5,
                          0.75
                        ],
                        "passed_time": 0.1119564686,
                        "iteration": 24,
                        "remaining_time": 2.127172902,
                        "learn": [
                          0.03168813738,
                          1
                        ]
                      },
                      {
                        "test": [
                          0.4107132822,
                          0.5,
                          0.75
                        ],
                        "passed_time": 0.113314904,
                        "iteration": 25,
                        "remaining_time": 2.065817865,
                        "learn": [
                          0.03024598885,
                          1
                        ]
                      },
                      {
                        "test": [
                          0.4148492141,
                          0.5,
                          0.75
                        ],
                        "passed_time": 0.1146998943,
                        "iteration": 26,
                        "remaining_time": 2.009372223,
                        "learn": [
                          0.02901505971,
                          1
                        ]
                      },
                      {
                        "test": [
                          0.413354656,
                          0.5,
                          0.75
                        ],
                        "passed_time": 0.1162890257,
                        "iteration": 27,
                        "remaining_time": 1.960300719,
                        "learn": [
                          0.02794932191,
                          1
                        ]
                      },
                      {
                        "test": [
                          0.4190015924,
                          0.5,
                          0.75
                        ],
                        "passed_time": 0.1177642961,
                        "iteration": 28,
                        "remaining_time": 1.912654603,
                        "learn": [
                          0.02640105404,
                          1
                        ]
                      },
                      {
                        "test": [
                          0.4165778392,
                          0.5,
                          0.75
                        ],
                        "passed_time": 0.1191564738,
                        "iteration": 29,
                        "remaining_time": 1.866784757,
                        "learn": [
                          0.0255793539,
                          1
                        ]
                      },
                      {
                        "test": [
                          0.4156171856,
                          0.5,
                          0.75
                        ],
                        "passed_time": 0.1205101383,
                        "iteration": 30,
                        "remaining_time": 1.82320177,
                        "learn": [
                          0.0248286363,
                          1
                        ]
                      },
                      {
                        "test": [
                          0.4113171441,
                          0.5,
                          0.75
                        ],
                        "passed_time": 0.1218833512,
                        "iteration": 31,
                        "remaining_time": 1.782544012,
                        "learn": [
                          0.02360332553,
                          1
                        ]
                      },
                      {
                        "test": [
                          0.4139036535,
                          0.5,
                          0.75
                        ],
                        "passed_time": 0.1233619881,
                        "iteration": 32,
                        "remaining_time": 1.745759044,
                        "learn": [
                          0.02268632189,
                          1
                        ]
                      },
                      {
                        "test": [
                          0.4159914859,
                          0.5,
                          0.75
                        ],
                        "passed_time": 0.1248562329,
                        "iteration": 33,
                        "remaining_time": 1.711264839,
                        "learn": [
                          0.02204659386,
                          1
                        ]
                      },
                      {
                        "test": [
                          0.414579691,
                          0.5,
                          0.75
                        ],
                        "passed_time": 0.1264263026,
                        "iteration": 34,
                        "remaining_time": 1.679663735,
                        "learn": [
                          0.02140625458,
                          1
                        ]
                      },
                      {
                        "test": [
                          0.4185587999,
                          0.5,
                          0.75
                        ],
                        "passed_time": 0.1278138325,
                        "iteration": 35,
                        "remaining_time": 1.647378286,
                        "learn": [
                          0.02065249354,
                          1
                        ]
                      },
                      {
                        "test": [
                          0.4165767581,
                          0.5,
                          0.75
                        ],
                        "passed_time": 0.129270511,
                        "iteration": 36,
                        "remaining_time": 1.617628286,
                        "learn": [
                          0.0200742748,
                          1
                        ]
                      },
                      {
                        "test": [
                          0.418049,
                          0.5,
                          0.75
                        ],
                        "passed_time": 0.1305889096,
                        "iteration": 37,
                        "remaining_time": 1.587686217,
                        "learn": [
                          0.01933341783,
                          1
                        ]
                      },
                      {
                        "test": [
                          0.4200017672,
                          0.5,
                          0.75
                        ],
                        "passed_time": 0.1319279348,
                        "iteration": 38,
                        "remaining_time": 1.559455845,
                        "learn": [
                          0.01876622423,
                          1
                        ]
                      },
                      {
                        "test": [
                          0.4191962106,
                          0.5,
                          0.75
                        ],
                        "passed_time": 0.1332456325,
                        "iteration": 39,
                        "remaining_time": 1.532324774,
                        "learn": [
                          0.01819839864,
                          1
                        ]
                      },
                      {
                        "test": [
                          0.4188887729,
                          0.5,
                          0.75
                        ],
                        "passed_time": 0.1345827464,
                        "iteration": 40,
                        "remaining_time": 1.506670258,
                        "learn": [
                          0.01779250042,
                          1
                        ]
                      },
                      {
                        "test": [
                          0.4194611462,
                          0.5,
                          0.75
                        ],
                        "passed_time": 0.1359140688,
                        "iteration": 41,
                        "remaining_time": 1.48211056,
                        "learn": [
                          0.01730530616,
                          1
                        ]
                      },
                      {
                        "test": [
                          0.4187007949,
                          0.5,
                          0.75
                        ],
                        "passed_time": 0.1372957523,
                        "iteration": 42,
                        "remaining_time": 1.459166483,
                        "learn": [
                          0.01678991751,
                          1
                        ]
                      },
                      {
                        "test": [
                          0.4195017861,
                          0.5,
                          0.75
                        ],
                        "passed_time": 0.1386434794,
                        "iteration": 43,
                        "remaining_time": 1.436850605,
                        "learn": [
                          0.01645919243,
                          1
                        ]
                      },
                      {
                        "test": [
                          0.4216335466,
                          0.5,
                          0.75
                        ],
                        "passed_time": 0.1399721127,
                        "iteration": 44,
                        "remaining_time": 1.415273584,
                        "learn": [
                          0.01604876761,
                          1
                        ]
                      },
                      {
                        "test": [
                          0.4217049788,
                          0.5,
                          0.75
                        ],
                        "passed_time": 0.1413189689,
                        "iteration": 45,
                        "remaining_time": 1.39475678,
                        "learn": [
                          0.01568967995,
                          1
                        ]
                      },
                      {
                        "test": [
                          0.4237926017,
                          0.5,
                          0.75
                        ],
                        "passed_time": 0.1421494364,
                        "iteration": 46,
                        "remaining_time": 1.37007861,
                        "learn": [
                          0.01503393174,
                          1
                        ]
                      },
                      {
                        "test": [
                          0.4235915259,
                          0.5,
                          0.75
                        ],
                        "passed_time": 0.1434912253,
                        "iteration": 47,
                        "remaining_time": 1.351209038,
                        "learn": [
                          0.01474637728,
                          1
                        ]
                      },
                      {
                        "test": [
                          0.425006382,
                          0.5,
                          0.75
                        ],
                        "passed_time": 0.1448784884,
                        "iteration": 48,
                        "remaining_time": 1.333473434,
                        "learn": [
                          0.01440382038,
                          1
                        ]
                      },
                      {
                        "test": [
                          0.4248179738,
                          0.5,
                          0.75
                        ],
                        "passed_time": 0.1461801682,
                        "iteration": 49,
                        "remaining_time": 1.315621514,
                        "learn": [
                          0.01407326797,
                          1
                        ]
                      },
                      {
                        "test": [
                          0.4246024575,
                          0.5,
                          0.75
                        ],
                        "passed_time": 0.1470208267,
                        "iteration": 50,
                        "remaining_time": 1.294359827,
                        "learn": [
                          0.0137383572,
                          1
                        ]
                      },
                      {
                        "test": [
                          0.4248175808,
                          0.5,
                          0.75
                        ],
                        "passed_time": 0.1483964569,
                        "iteration": 51,
                        "remaining_time": 1.278492551,
                        "learn": [
                          0.01343215714,
                          1
                        ]
                      },
                      {
                        "test": [
                          0.423725575,
                          0.5,
                          0.75
                        ],
                        "passed_time": 0.1497142373,
                        "iteration": 52,
                        "remaining_time": 1.262684228,
                        "learn": [
                          0.0131801022,
                          1
                        ]
                      },
                      {
                        "test": [
                          0.4231014812,
                          0.5,
                          0.75
                        ],
                        "passed_time": 0.1510212235,
                        "iteration": 53,
                        "remaining_time": 1.247323439,
                        "learn": [
                          0.01279406984,
                          1
                        ]
                      },
                      {
                        "test": [
                          0.4245930027,
                          0.5,
                          0.75
                        ],
                        "passed_time": 0.1523100741,
                        "iteration": 54,
                        "remaining_time": 1.232326963,
                        "learn": [
                          0.01254700457,
                          1
                        ]
                      },
                      {
                        "test": [
                          0.4235986273,
                          0.5,
                          0.75
                        ],
                        "passed_time": 0.1536276068,
                        "iteration": 55,
                        "remaining_time": 1.218047454,
                        "learn": [
                          0.01229548287,
                          1
                        ]
                      },
                      {
                        "test": [
                          0.4229252299,
                          0.5,
                          0.75
                        ],
                        "passed_time": 0.1549550855,
                        "iteration": 56,
                        "remaining_time": 1.204300051,
                        "learn": [
                          0.01208267788,
                          1
                        ]
                      },
                      {
                        "test": [
                          0.4229018969,
                          0.5,
                          0.75
                        ],
                        "passed_time": 0.1562537244,
                        "iteration": 57,
                        "remaining_time": 1.190761141,
                        "learn": [
                          0.01193042505,
                          1
                        ]
                      },
                      {
                        "test": [
                          0.4214518972,
                          0.5,
                          0.75
                        ],
                        "passed_time": 0.1575899855,
                        "iteration": 58,
                        "remaining_time": 1.177918366,
                        "learn": [
                          0.01170296873,
                          1
                        ]
                      },
                      {
                        "test": [
                          0.4262478209,
                          0.5,
                          0.75
                        ],
                        "passed_time": 0.1589877087,
                        "iteration": 59,
                        "remaining_time": 1.165909864,
                        "learn": [
                          0.01134584819,
                          1
                        ]
                      },
                      {
                        "test": [
                          0.4258881931,
                          0.5,
                          0.75
                        ],
                        "passed_time": 0.160319087,
                        "iteration": 60,
                        "remaining_time": 1.15377179,
                        "learn": [
                          0.01114594407,
                          1
                        ]
                      },
                      {
                        "test": [
                          0.4258789666,
                          0.5,
                          0.75
                        ],
                        "passed_time": 0.1616104935,
                        "iteration": 61,
                        "remaining_time": 1.141699938,
                        "learn": [
                          0.01096844496,
                          1
                        ]
                      },
                      {
                        "test": [
                          0.4336358367,
                          0.5,
                          0.75
                        ],
                        "passed_time": 0.1624399719,
                        "iteration": 62,
                        "remaining_time": 1.126766154,
                        "learn": [
                          0.01062225307,
                          1
                        ]
                      },
                      {
                        "test": [
                          0.4359434252,
                          0.5,
                          0.75
                        ],
                        "passed_time": 0.1637944964,
                        "iteration": 63,
                        "remaining_time": 1.115850006,
                        "learn": [
                          0.01044975083,
                          1
                        ]
                      },
                      {
                        "test": [
                          0.4369804221,
                          0.5,
                          0.75
                        ],
                        "passed_time": 0.1651485068,
                        "iteration": 64,
                        "remaining_time": 1.105224622,
                        "learn": [
                          0.01025755678,
                          1
                        ]
                      },
                      {
                        "test": [
                          0.4374568426,
                          0.5,
                          0.75
                        ],
                        "passed_time": 0.166490777,
                        "iteration": 65,
                        "remaining_time": 1.094802988,
                        "learn": [
                          0.01011794427,
                          1
                        ]
                      },
                      {
                        "test": [
                          0.4387948856,
                          0.5,
                          0.75
                        ],
                        "passed_time": 0.1679900605,
                        "iteration": 66,
                        "remaining_time": 1.085667108,
                        "learn": [
                          0.009953760197,
                          1
                        ]
                      },
                      {
                        "test": [
                          0.4402336002,
                          0.5,
                          0.75
                        ],
                        "passed_time": 0.1708166927,
                        "iteration": 67,
                        "remaining_time": 1.085188401,
                        "learn": [
                          0.00980644693,
                          1
                        ]
                      },
                      {
                        "test": [
                          0.4407736305,
                          0.5,
                          0.75
                        ],
                        "passed_time": 0.1726627821,
                        "iteration": 68,
                        "remaining_time": 1.078516798,
                        "learn": [
                          0.009668678712,
                          1
                        ]
                      },
                      {
                        "test": [
                          0.4420914993,
                          0.5,
                          0.75
                        ],
                        "passed_time": 0.1743023804,
                        "iteration": 69,
                        "remaining_time": 1.070714622,
                        "learn": [
                          0.009534489245,
                          1
                        ]
                      },
                      {
                        "test": [
                          0.4431383051,
                          0.5,
                          0.75
                        ],
                        "passed_time": 0.1777182368,
                        "iteration": 70,
                        "remaining_time": 1.073818642,
                        "learn": [
                          0.009401029241,
                          1
                        ]
                      },
                      {
                        "test": [
                          0.4430712999,
                          0.5,
                          0.75
                        ],
                        "passed_time": 0.1790783082,
                        "iteration": 71,
                        "remaining_time": 1.064521054,
                        "learn": [
                          0.009231746051,
                          1
                        ]
                      },
                      {
                        "test": [
                          0.441356949,
                          0.5,
                          0.75
                        ],
                        "passed_time": 0.1804358713,
                        "iteration": 72,
                        "remaining_time": 1.055426261,
                        "learn": [
                          0.009080385473,
                          1
                        ]
                      },
                      {
                        "test": [
                          0.4413107512,
                          0.5,
                          0.75
                        ],
                        "passed_time": 0.1818122093,
                        "iteration": 73,
                        "remaining_time": 1.046648664,
                        "learn": [
                          0.008981507956,
                          1
                        ]
                      },
                      {
                        "test": [
                          0.4426180691,
                          0.5,
                          0.75
                        ],
                        "passed_time": 0.1831546687,
                        "iteration": 74,
                        "remaining_time": 1.037876456,
                        "learn": [
                          0.008879292167,
                          1
                        ]
                      },
                      {
                        "test": [
                          0.4440605412,
                          0.5,
                          0.75
                        ],
                        "passed_time": 0.1844660863,
                        "iteration": 75,
                        "remaining_time": 1.029126587,
                        "learn": [
                          0.008759277896,
                          1
                        ]
                      },
                      {
                        "test": [
                          0.4435977241,
                          0.5,
                          0.75
                        ],
                        "passed_time": 0.1857704807,
                        "iteration": 76,
                        "remaining_time": 1.020531342,
                        "learn": [
                          0.008650925901,
                          1
                        ]
                      },
                      {
                        "test": [
                          0.4435921351,
                          0.5,
                          0.75
                        ],
                        "passed_time": 0.1870910789,
                        "iteration": 77,
                        "remaining_time": 1.012210709,
                        "learn": [
                          0.008525178634,
                          1
                        ]
                      },
                      {
                        "test": [
                          0.4438200669,
                          0.5,
                          0.75
                        ],
                        "passed_time": 0.1883852199,
                        "iteration": 78,
                        "remaining_time": 1.003926299,
                        "learn": [
                          0.008411902888,
                          1
                        ]
                      },
                      {
                        "test": [
                          0.4452775359,
                          0.5,
                          0.75
                        ],
                        "passed_time": 0.1892218266,
                        "iteration": 79,
                        "remaining_time": 0.9934145894,
                        "learn": [
                          0.008294093135,
                          1
                        ]
                      },
                      {
                        "test": [
                          0.4455096515,
                          0.5,
                          0.75
                        ],
                        "passed_time": 0.190536692,
                        "iteration": 80,
                        "remaining_time": 0.9856157276,
                        "learn": [
                          0.00819217652,
                          1
                        ]
                      },
                      {
                        "test": [
                          0.4504092947,
                          0.5,
                          0.75
                        ],
                        "passed_time": 0.1910907657,
                        "iteration": 81,
                        "remaining_time": 0.9740968302,
                        "learn": [
                          0.007993937876,
                          1
                        ]
                      },
                      {
                        "test": [
                          0.4506930907,
                          0.5,
                          0.75
                        ],
                        "passed_time": 0.1923762731,
                        "iteration": 82,
                        "remaining_time": 0.9665169381,
                        "learn": [
                          0.007900982683,
                          1
                        ]
                      },
                      {
                        "test": [
                          0.4510932449,
                          0.5,
                          0.75
                        ],
                        "passed_time": 0.1937080123,
                        "iteration": 83,
                        "remaining_time": 0.9593158704,
                        "learn": [
                          0.007827095475,
                          1
                        ]
                      },
                      {
                        "test": [
                          0.4502928474,
                          0.5,
                          0.75
                        ],
                        "passed_time": 0.1950053843,
                        "iteration": 84,
                        "remaining_time": 0.9520851117,
                        "learn": [
                          0.007730838676,
                          1
                        ]
                      },
                      {
                        "test": [
                          0.4510465875,
                          0.5,
                          0.75
                        ],
                        "passed_time": 0.1964831866,
                        "iteration": 85,
                        "remaining_time": 0.9458609217,
                        "learn": [
                          0.007664238479,
                          1
                        ]
                      },
                      {
                        "test": [
                          0.4514364157,
                          0.5,
                          0.75
                        ],
                        "passed_time": 0.1977889201,
                        "iteration": 86,
                        "remaining_time": 0.9389290116,
                        "learn": [
                          0.007600813379,
                          1
                        ]
                      },
                      {
                        "test": [
                          0.451052173,
                          0.5,
                          0.75
                        ],
                        "passed_time": 0.1991216312,
                        "iteration": 87,
                        "remaining_time": 0.9322512733,
                        "learn": [
                          0.0074943957,
                          1
                        ]
                      },
                      {
                        "test": [
                          0.4514163001,
                          0.5,
                          0.75
                        ],
                        "passed_time": 0.2004810407,
                        "iteration": 88,
                        "remaining_time": 0.925816941,
                        "learn": [
                          0.007432880305,
                          1
                        ]
                      },
                      {
                        "test": [
                          0.4530075463,
                          0.5,
                          0.75
                        ],
                        "passed_time": 0.2017833633,
                        "iteration": 89,
                        "remaining_time": 0.9192353216,
                        "learn": [
                          0.007359626636,
                          1
                        ]
                      },
                      {
                        "test": [
                          0.4544133639,
                          0.5,
                          0.75
                        ],
                        "passed_time": 0.2032019199,
                        "iteration": 90,
                        "remaining_time": 0.9132921455,
                        "learn": [
                          0.007292306249,
                          1
                        ]
                      },
                      {
                        "test": [
                          0.4564172423,
                          0.5,
                          0.75
                        ],
                        "passed_time": 0.2045251777,
                        "iteration": 91,
                        "remaining_time": 0.907024701,
                        "learn": [
                          0.007198893798,
                          1
                        ]
                      },
                      {
                        "test": [
                          0.4573831066,
                          0.5,
                          0.75
                        ],
                        "passed_time": 0.2058386153,
                        "iteration": 92,
                        "remaining_time": 0.9008206069,
                        "learn": [
                          0.007132769788,
                          1
                        ]
                      },
                      {
                        "test": [
                          0.4570167577,
                          0.5,
                          0.75
                        ],
                        "passed_time": 0.2071242286,
                        "iteration": 93,
                        "remaining_time": 0.8946003915,
                        "learn": [
                          0.00706923753,
                          1
                        ]
                      },
                      {
                        "test": [
                          0.4575174035,
                          0.5,
                          0.75
                        ],
                        "passed_time": 0.2086443096,
                        "iteration": 94,
                        "remaining_time": 0.8894836355,
                        "learn": [
                          0.006964751337,
                          1
                        ]
                      },
                      {
                        "test": [
                          0.4571781954,
                          0.5,
                          0.75
                        ],
                        "passed_time": 0.209973142,
                        "iteration": 95,
                        "remaining_time": 0.8836369724,
                        "learn": [
                          0.006910721853,
                          1
                        ]
                      },
                      {
                        "test": [
                          0.4576832855,
                          0.5,
                          0.75
                        ],
                        "passed_time": 0.21151415,
                        "iteration": 96,
                        "remaining_time": 0.8787649738,
                        "learn": [
                          0.006825171312,
                          1
                        ]
                      },
                      {
                        "test": [
                          0.4581278333,
                          0.5,
                          0.75
                        ],
                        "passed_time": 0.2128489079,
                        "iteration": 97,
                        "remaining_time": 0.873114908,
                        "learn": [
                          0.006763889323,
                          1
                        ]
                      },
                      {
                        "test": [
                          0.4572138636,
                          0.5,
                          0.75
                        ],
                        "passed_time": 0.2141992119,
                        "iteration": 98,
                        "remaining_time": 0.8676149897,
                        "learn": [
                          0.006696193912,
                          1
                        ]
                      },
                      {
                        "test": [
                          0.4577358371,
                          0.5,
                          0.75
                        ],
                        "passed_time": 0.2155177456,
                        "iteration": 99,
                        "remaining_time": 0.8620709822,
                        "learn": [
                          0.006637366715,
                          1
                        ]
                      },
                      {
                        "test": [
                          0.4582303701,
                          0.5,
                          0.75
                        ],
                        "passed_time": 0.2168410997,
                        "iteration": 100,
                        "remaining_time": 0.8566296909,
                        "learn": [
                          0.006581471677,
                          1
                        ]
                      },
                      {
                        "test": [
                          0.4580568202,
                          0.5,
                          0.75
                        ],
                        "passed_time": 0.2183897792,
                        "iteration": 101,
                        "remaining_time": 0.8521483542,
                        "learn": [
                          0.006523820868,
                          1
                        ]
                      },
                      {
                        "test": [
                          0.4587060589,
                          0.5,
                          0.75
                        ],
                        "passed_time": 0.2198396085,
                        "iteration": 102,
                        "remaining_time": 0.8473429569,
                        "learn": [
                          0.006469344731,
                          1
                        ]
                      },
                      {
                        "test": [
                          0.4583151388,
                          0.5,
                          0.75
                        ],
                        "passed_time": 0.2212540623,
                        "iteration": 103,
                        "remaining_time": 0.8424673911,
                        "learn": [
                          0.006412531581,
                          1
                        ]
                      },
                      {
                        "test": [
                          0.4589446444,
                          0.5,
                          0.75
                        ],
                        "passed_time": 0.2227209763,
                        "iteration": 104,
                        "remaining_time": 0.8378551014,
                        "learn": [
                          0.006359166,
                          1
                        ]
                      },
                      {
                        "test": [
                          0.4579247214,
                          0.5,
                          0.75
                        ],
                        "passed_time": 0.2240640298,
                        "iteration": 105,
                        "remaining_time": 0.8328417711,
                        "learn": [
                          0.00627626554,
                          1
                        ]
                      },
                      {
                        "test": [
                          0.4586836147,
                          0.5,
                          0.75
                        ],
                        "passed_time": 0.2253873139,
                        "iteration": 106,
                        "remaining_time": 0.8278244334,
                        "learn": [
                          0.006220276121,
                          1
                        ]
                      },
                      {
                        "test": [
                          0.4586052182,
                          0.5,
                          0.75
                        ],
                        "passed_time": 0.2267006966,
                        "iteration": 107,
                        "remaining_time": 0.8228395654,
                        "learn": [
                          0.006172168691,
                          1
                        ]
                      },
                      {
                        "test": [
                          0.4595418326,
                          0.5,
                          0.75
                        ],
                        "passed_time": 0.2280568143,
                        "iteration": 108,
                        "remaining_time": 0.8180753614,
                        "learn": [
                          0.006103652568,
                          1
                        ]
                      },
                      {
                        "test": [
                          0.4601412813,
                          0.5,
                          0.75
                        ],
                        "passed_time": 0.2294068028,
                        "iteration": 109,
                        "remaining_time": 0.8133513919,
                        "learn": [
                          0.006050338596,
                          1
                        ]
                      },
                      {
                        "test": [
                          0.460399793,
                          0.5,
                          0.75
                        ],
                        "passed_time": 0.2309672993,
                        "iteration": 110,
                        "remaining_time": 0.8094259408,
                        "learn": [
                          0.00600997212,
                          1
                        ]
                      },
                      {
                        "test": [
                          0.4619735999,
                          0.5,
                          0.75
                        ],
                        "passed_time": 0.2319144559,
                        "iteration": 111,
                        "remaining_time": 0.8034179363,
                        "learn": [
                          0.005916879402,
                          1
                        ]
                      },
                      {
                        "test": [
                          0.4623642206,
                          0.5,
                          0.75
                        ],
                        "passed_time": 0.2332425455,
                        "iteration": 112,
                        "remaining_time": 0.798804116,
                        "learn": [
                          0.005863558207,
                          1
                        ]
                      },
                      {
                        "test": [
                          0.4633350872,
                          0.5,
                          0.75
                        ],
                        "passed_time": 0.2345858122,
                        "iteration": 113,
                        "remaining_time": 0.7942993289,
                        "learn": [
                          0.005813675092,
                          1
                        ]
                      },
                      {
                        "test": [
                          0.4645602251,
                          0.5,
                          0.75
                        ],
                        "passed_time": 0.2359246187,
                        "iteration": 114,
                        "remaining_time": 0.7898345932,
                        "learn": [
                          0.005763922485,
                          1
                        ]
                      },
                      {
                        "test": [
                          0.4637074233,
                          0.5,
                          0.75
                        ],
                        "passed_time": 0.2373834931,
                        "iteration": 115,
                        "remaining_time": 0.7858212186,
                        "learn": [
                          0.005716289235,
                          1
                        ]
                      },
                      {
                        "test": [
                          0.464054394,
                          0.5,
                          0.75
                        ],
                        "passed_time": 0.2389020891,
                        "iteration": 116,
                        "remaining_time": 0.7820470096,
                        "learn": [
                          0.005666817052,
                          1
                        ]
                      },
                      {
                        "test": [
                          0.464765513,
                          0.5,
                          0.75
                        ],
                        "passed_time": 0.2402416021,
                        "iteration": 117,
                        "remaining_time": 0.777731288,
                        "learn": [
                          0.005616642276,
                          1
                        ]
                      },
                      {
                        "test": [
                          0.4662346453,
                          0.5,
                          0.75
                        ],
                        "passed_time": 0.2419006756,
                        "iteration": 118,
                        "remaining_time": 0.7744887176,
                        "learn": [
                          0.00556967641,
                          1
                        ]
                      },
                      {
                        "test": [
                          0.4668379761,
                          0.5,
                          0.75
                        ],
                        "passed_time": 0.2432786376,
                        "iteration": 119,
                        "remaining_time": 0.7703823525,
                        "learn": [
                          0.005529427652,
                          1
                        ]
                      },
                      {
                        "test": [
                          0.4679512446,
                          0.5,
                          0.75
                        ],
                        "passed_time": 0.24413723,
                        "iteration": 120,
                        "remaining_time": 0.7646942988,
                        "learn": [
                          0.005448473897,
                          1
                        ]
                      },
                      {
                        "test": [
                          0.467468105,
                          0.5,
                          0.75
                        ],
                        "passed_time": 0.2456092581,
                        "iteration": 121,
                        "remaining_time": 0.7609860621,
                        "learn": [
                          0.005405990419,
                          1
                        ]
                      },
                      {
                        "test": [
                          0.4677415225,
                          0.5,
                          0.75
                        ],
                        "passed_time": 0.2469814383,
                        "iteration": 122,
                        "remaining_time": 0.7570081483,
                        "learn": [
                          0.005365066021,
                          1
                        ]
                      },
                      {
                        "test": [
                          0.4679379079,
                          0.5,
                          0.75
                        ],
                        "passed_time": 0.2484334694,
                        "iteration": 123,
                        "remaining_time": 0.7533143911,
                        "learn": [
                          0.005329274509,
                          1
                        ]
                      },
                      {
                        "test": [
                          0.4694635654,
                          0.5,
                          0.75
                        ],
                        "passed_time": 0.2497998331,
                        "iteration": 124,
                        "remaining_time": 0.7493994994,
                        "learn": [
                          0.005283382105,
                          1
                        ]
                      },
                      {
                        "test": [
                          0.4708302988,
                          0.5,
                          0.75
                        ],
                        "passed_time": 0.2511103603,
                        "iteration": 125,
                        "remaining_time": 0.7453593235,
                        "learn": [
                          0.005225143318,
                          1
                        ]
                      },
                      {
                        "test": [
                          0.4724111339,
                          0.5,
                          0.75
                        ],
                        "passed_time": 0.2524803227,
                        "iteration": 126,
                        "remaining_time": 0.7415366959,
                        "learn": [
                          0.005153179953,
                          1
                        ]
                      },
                      {
                        "test": [
                          0.4719345779,
                          0.5,
                          0.75
                        ],
                        "passed_time": 0.2538354031,
                        "iteration": 127,
                        "remaining_time": 0.7377091404,
                        "learn": [
                          0.005122340733,
                          1
                        ]
                      },
                      {
                        "test": [
                          0.471681311,
                          0.5,
                          0.75
                        ],
                        "passed_time": 0.2552180716,
                        "iteration": 128,
                        "remaining_time": 0.7339992602,
                        "learn": [
                          0.005049860347,
                          1
                        ]
                      },
                      {
                        "test": [
                          0.4721853867,
                          0.5,
                          0.75
                        ],
                        "passed_time": 0.2565770448,
                        "iteration": 129,
                        "remaining_time": 0.7302577429,
                        "learn": [
                          0.005011024137,
                          1
                        ]
                      },
                      {
                        "test": [
                          0.471131365,
                          0.5,
                          0.75
                        ],
                        "passed_time": 0.2579375439,
                        "iteration": 130,
                        "remaining_time": 0.7265568986,
                        "learn": [
                          0.004964766698,
                          1
                        ]
                      },
                      {
                        "test": [
                          0.4708392538,
                          0.5,
                          0.75
                        ],
                        "passed_time": 0.2592833583,
                        "iteration": 131,
                        "remaining_time": 0.7228505748,
                        "learn": [
                          0.004917722513,
                          1
                        ]
                      },
                      {
                        "test": [
                          0.4706674042,
                          0.5,
                          0.75
                        ],
                        "passed_time": 0.2607915801,
                        "iteration": 132,
                        "remaining_time": 0.719627894,
                        "learn": [
                          0.004882804538,
                          1
                        ]
                      },
                      {
                        "test": [
                          0.4707946516,
                          0.5,
                          0.75
                        ],
                        "passed_time": 0.2622858199,
                        "iteration": 133,
                        "remaining_time": 0.7163926125,
                        "learn": [
                          0.00484865803,
                          1
                        ]
                      },
                      {
                        "test": [
                          0.4727889345,
                          0.5,
                          0.75
                        ],
                        "passed_time": 0.2636785976,
                        "iteration": 134,
                        "remaining_time": 0.7129088008,
                        "learn": [
                          0.004802466108,
                          1
                        ]
                      },
                      {
                        "test": [
                          0.4733027489,
                          0.5,
                          0.75
                        ],
                        "passed_time": 0.2650328971,
                        "iteration": 135,
                        "remaining_time": 0.7093527539,
                        "learn": [
                          0.00477310322,
                          1
                        ]
                      },
                      {
                        "test": [
                          0.4742412921,
                          0.5,
                          0.75
                        ],
                        "passed_time": 0.2663590567,
                        "iteration": 136,
                        "remaining_time": 0.7057542889,
                        "learn": [
                          0.004722959745,
                          1
                        ]
                      },
                      {
                        "test": [
                          0.4750893512,
                          0.5,
                          0.75
                        ],
                        "passed_time": 0.267691925,
                        "iteration": 137,
                        "remaining_time": 0.7022063541,
                        "learn": [
                          0.004695429595,
                          1
                        ]
                      },
                      {
                        "test": [
                          0.4757554998,
                          0.5,
                          0.75
                        ],
                        "passed_time": 0.2690559001,
                        "iteration": 138,
                        "remaining_time": 0.6987710787,
                        "learn": [
                          0.004665630626,
                          1
                        ]
                      },
                      {
                        "test": [
                          0.4760352896,
                          0.5,
                          0.75
                        ],
                        "passed_time": 0.2703687569,
                        "iteration": 139,
                        "remaining_time": 0.6952339462,
                        "learn": [
                          0.004636824722,
                          1
                        ]
                      },
                      {
                        "test": [
                          0.4768982691,
                          0.5,
                          0.75
                        ],
                        "passed_time": 0.2716535119,
                        "iteration": 140,
                        "remaining_time": 0.691656814,
                        "learn": [
                          0.004586557163,
                          1
                        ]
                      },
                      {
                        "test": [
                          0.4770057318,
                          0.5,
                          0.75
                        ],
                        "passed_time": 0.2729941013,
                        "iteration": 141,
                        "remaining_time": 0.6882527341,
                        "learn": [
                          0.004563403968,
                          1
                        ]
                      },
                      {
                        "test": [
                          0.4766248243,
                          0.5,
                          0.75
                        ],
                        "passed_time": 0.2743053621,
                        "iteration": 142,
                        "remaining_time": 0.6848042955,
                        "learn": [
                          0.004531283069,
                          1
                        ]
                      },
                      {
                        "test": [
                          0.4773117394,
                          0.5,
                          0.75
                        ],
                        "passed_time": 0.2756397245,
                        "iteration": 143,
                        "remaining_time": 0.6814426523,
                        "learn": [
                          0.004501206028,
                          1
                        ]
                      },
                      {
                        "test": [
                          0.4777734799,
                          0.5,
                          0.75
                        ],
                        "passed_time": 0.2769634764,
                        "iteration": 144,
                        "remaining_time": 0.6780829939,
                        "learn": [
                          0.004467004389,
                          1
                        ]
                      },
                      {
                        "test": [
                          0.4777456312,
                          0.5,
                          0.75
                        ],
                        "passed_time": 0.2782727945,
                        "iteration": 145,
                        "remaining_time": 0.6747162277,
                        "learn": [
                          0.004443651131,
                          1
                        ]
                      },
                      {
                        "test": [
                          0.4775122588,
                          0.5,
                          0.75
                        ],
                        "passed_time": 0.2796326518,
                        "iteration": 146,
                        "remaining_time": 0.6714988168,
                        "learn": [
                          0.004418334848,
                          1
                        ]
                      },
                      {
                        "test": [
                          0.4785534059,
                          0.5,
                          0.75
                        ],
                        "passed_time": 0.2813096832,
                        "iteration": 147,
                        "remaining_time": 0.6690608682,
                        "learn": [
                          0.004388842986,
                          1
                        ]
                      },
                      {
                        "test": [
                          0.4793311422,
                          0.5,
                          0.75
                        ],
                        "passed_time": 0.2827277489,
                        "iteration": 148,
                        "remaining_time": 0.6660230864,
                        "learn": [
                          0.004362014309,
                          1
                        ]
                      },
                      {
                        "test": [
                          0.4803042617,
                          0.5,
                          0.75
                        ],
                        "passed_time": 0.2840831321,
                        "iteration": 149,
                        "remaining_time": 0.6628606415,
                        "learn": [
                          0.004330760536,
                          1
                        ]
                      },
                      {
                        "test": [
                          0.4804272965,
                          0.5,
                          0.75
                        ],
                        "passed_time": 0.2853999493,
                        "iteration": 150,
                        "remaining_time": 0.6596329955,
                        "learn": [
                          0.004310531223,
                          1
                        ]
                      },
                      {
                        "test": [
                          0.4807566013,
                          0.5,
                          0.75
                        ],
                        "passed_time": 0.2867556648,
                        "iteration": 151,
                        "remaining_time": 0.6565195483,
                        "learn": [
                          0.004281576699,
                          1
                        ]
                      },
                      {
                        "test": [
                          0.4808184487,
                          0.5,
                          0.75
                        ],
                        "passed_time": 0.2881098847,
                        "iteration": 152,
                        "remaining_time": 0.6534256863,
                        "learn": [
                          0.004255055984,
                          1
                        ]
                      },
                      {
                        "test": [
                          0.4814231978,
                          0.5,
                          0.75
                        ],
                        "passed_time": 0.2894866704,
                        "iteration": 153,
                        "remaining_time": 0.6504051166,
                        "learn": [
                          0.004224443623,
                          1
                        ]
                      },
                      {
                        "test": [
                          0.4820279812,
                          0.5,
                          0.75
                        ],
                        "passed_time": 0.2908441199,
                        "iteration": 154,
                        "remaining_time": 0.6473627186,
                        "learn": [
                          0.004199722805,
                          1
                        ]
                      },
                      {
                        "test": [
                          0.4827684969,
                          0.5,
                          0.75
                        ],
                        "passed_time": 0.2921738955,
                        "iteration": 155,
                        "remaining_time": 0.6442808978,
                        "learn": [
                          0.004173822239,
                          1
                        ]
                      },
                      {
                        "test": [
                          0.4835964198,
                          0.5,
                          0.75
                        ],
                        "passed_time": 0.293529065,
                        "iteration": 156,
                        "remaining_time": 0.6412768746,
                        "learn": [
                          0.004151343822,
                          1
                        ]
                      },
                      {
                        "test": [
                          0.4830543274,
                          0.5,
                          0.75
                        ],
                        "passed_time": 0.2949407834,
                        "iteration": 157,
                        "remaining_time": 0.6384161261,
                        "learn": [
                          0.004119111543,
                          1
                        ]
                      },
                      {
                        "test": [
                          0.4842124959,
                          0.5,
                          0.75
                        ],
                        "passed_time": 0.2962543783,
                        "iteration": 158,
                        "remaining_time": 0.6353631636,
                        "learn": [
                          0.004090414983,
                          1
                        ]
                      },
                      {
                        "test": [
                          0.4843228264,
                          0.5,
                          0.75
                        ],
                        "passed_time": 0.2976867469,
                        "iteration": 159,
                        "remaining_time": 0.6325843372,
                        "learn": [
                          0.004070653945,
                          1
                        ]
                      },
                      {
                        "test": [
                          0.4841431079,
                          0.5,
                          0.75
                        ],
                        "passed_time": 0.2990394537,
                        "iteration": 160,
                        "remaining_time": 0.6296545019,
                        "learn": [
                          0.004048954016,
                          1
                        ]
                      },
                      {
                        "test": [
                          0.4868932616,
                          0.5,
                          0.75
                        ],
                        "passed_time": 0.2996112545,
                        "iteration": 161,
                        "remaining_time": 0.6251148396,
                        "learn": [
                          0.003998479718,
                          1
                        ]
                      },
                      {
                        "test": [
                          0.4869241638,
                          0.5,
                          0.75
                        ],
                        "passed_time": 0.3009427942,
                        "iteration": 162,
                        "remaining_time": 0.6221946113,
                        "learn": [
                          0.003982035223,
                          1
                        ]
                      },
                      {
                        "test": [
                          0.4880927303,
                          0.5,
                          0.75
                        ],
                        "passed_time": 0.3022983419,
                        "iteration": 163,
                        "remaining_time": 0.6193429443,
                        "learn": [
                          0.003949607884,
                          1
                        ]
                      },
                      {
                        "test": [
                          0.4889717589,
                          0.5,
                          0.75
                        ],
                        "passed_time": 0.3035969298,
                        "iteration": 164,
                        "remaining_time": 0.6163937666,
                        "learn": [
                          0.003925515809,
                          1
                        ]
                      },
                      {
                        "test": [
                          0.4885872879,
                          0.5,
                          0.75
                        ],
                        "passed_time": 0.3049469165,
                        "iteration": 165,
                        "remaining_time": 0.6135678923,
                        "learn": [
                          0.003909382137,
                          1
                        ]
                      },
                      {
                        "test": [
                          0.4892223976,
                          0.5,
                          0.75
                        ],
                        "passed_time": 0.3062847513,
                        "iteration": 166,
                        "remaining_time": 0.6107354622,
                        "learn": [
                          0.00388019198,
                          1
                        ]
                      },
                      {
                        "test": [
                          0.4899164689,
                          0.5,
                          0.75
                        ],
                        "passed_time": 0.3076742335,
                        "iteration": 167,
                        "remaining_time": 0.60802289,
                        "learn": [
                          0.003860539577,
                          1
                        ]
                      },
                      {
                        "test": [
                          0.4905607637,
                          0.5,
                          0.75
                        ],
                        "passed_time": 0.3089734996,
                        "iteration": 168,
                        "remaining_time": 0.6051492803,
                        "learn": [
                          0.003822590203,
                          1
                        ]
                      },
                      {
                        "test": [
                          0.491468664,
                          0.5,
                          0.75
                        ],
                        "passed_time": 0.3103198518,
                        "iteration": 169,
                        "remaining_time": 0.6023855946,
                        "learn": [
                          0.003798509481,
                          1
                        ]
                      },
                      {
                        "test": [
                          0.4919670456,
                          0.5,
                          0.75
                        ],
                        "passed_time": 0.3116822368,
                        "iteration": 170,
                        "remaining_time": 0.5996693328,
                        "learn": [
                          0.003778123432,
                          1
                        ]
                      },
                      {
                        "test": [
                          0.4928354414,
                          0.5,
                          0.75
                        ],
                        "passed_time": 0.3130580398,
                        "iteration": 171,
                        "remaining_time": 0.5969944014,
                        "learn": [
                          0.003757885935,
                          1
                        ]
                      },
                      {
                        "test": [
                          0.4929035988,
                          0.5,
                          0.75
                        ],
                        "passed_time": 0.3144843319,
                        "iteration": 172,
                        "remaining_time": 0.5944299222,
                        "learn": [
                          0.003739763103,
                          1
                        ]
                      },
                      {
                        "test": [
                          0.4928206793,
                          0.5,
                          0.75
                        ],
                        "passed_time": 0.315807117,
                        "iteration": 173,
                        "remaining_time": 0.5916845984,
                        "learn": [
                          0.003722773938,
                          1
                        ]
                      },
                      {
                        "test": [
                          0.493357032,
                          0.5,
                          0.75
                        ],
                        "passed_time": 0.3172378287,
                        "iteration": 174,
                        "remaining_time": 0.5891559676,
                        "learn": [
                          0.003700757009,
                          1
                        ]
                      },
                      {
                        "test": [
                          0.494780601,
                          0.5,
                          0.75
                        ],
                        "passed_time": 0.3181149645,
                        "iteration": 175,
                        "remaining_time": 0.58562073,
                        "learn": [
                          0.003665368508,
                          1
                        ]
                      },
                      {
                        "test": [
                          0.4952689849,
                          0.5,
                          0.75
                        ],
                        "passed_time": 0.3194445241,
                        "iteration": 176,
                        "remaining_time": 0.5829411372,
                        "learn": [
                          0.003644029343,
                          1
                        ]
                      },
                      {
                        "test": [
                          0.4944410816,
                          0.5,
                          0.75
                        ],
                        "passed_time": 0.3207794693,
                        "iteration": 177,
                        "remaining_time": 0.5802864557,
                        "learn": [
                          0.003616497317,
                          1
                        ]
                      },
                      {
                        "test": [
                          0.4952696679,
                          0.5,
                          0.75
                        ],
                        "passed_time": 0.3221078799,
                        "iteration": 178,
                        "remaining_time": 0.5776348013,
                        "learn": [
                          0.003593007011,
                          1
                        ]
                      },
                      {
                        "test": [
                          0.4952007998,
                          0.5,
                          0.75
                        ],
                        "passed_time": 0.323419898,
                        "iteration": 179,
                        "remaining_time": 0.5749687075,
                        "learn": [
                          0.00357602444,
                          1
                        ]
                      },
                      {
                        "test": [
                          0.4954462001,
                          0.5,
                          0.75
                        ],
                        "passed_time": 0.3247356143,
                        "iteration": 180,
                        "remaining_time": 0.5723240937,
                        "learn": [
                          0.003562657575,
                          1
                        ]
                      },
                      {
                        "test": [
                          0.4959051452,
                          0.5,
                          0.75
                        ],
                        "passed_time": 0.3260344472,
                        "iteration": 181,
                        "remaining_time": 0.5696645836,
                        "learn": [
                          0.003544601421,
                          1
                        ]
                      },
                      {
                        "test": [
                          0.4961748299,
                          0.5,
                          0.75
                        ],
                        "passed_time": 0.3273551686,
                        "iteration": 182,
                        "remaining_time": 0.5670578604,
                        "learn": [
                          0.003530281839,
                          1
                        ]
                      },
                      {
                        "test": [
                          0.4985988983,
                          0.5,
                          0.75
                        ],
                        "passed_time": 0.3279095824,
                        "iteration": 183,
                        "remaining_time": 0.5631490654,
                        "learn": [
                          0.003492095869,
                          1
                        ]
                      },
                      {
                        "test": [
                          0.4996617657,
                          0.5,
                          0.75
                        ],
                        "passed_time": 0.3292821798,
                        "iteration": 184,
                        "remaining_time": 0.5606696576,
                        "learn": [
                          0.003472650922,
                          1
                        ]
                      },
                      {
                        "test": [
                          0.5001054266,
                          0.5,
                          0.75
                        ],
                        "passed_time": 0.3305864242,
                        "iteration": 185,
                        "remaining_time": 0.5580867592,
                        "learn": [
                          0.003452964551,
                          1
                        ]
                      },
                      {
                        "test": [
                          0.4999340347,
                          0.5,
                          0.75
                        ],
                        "passed_time": 0.3319020055,
                        "iteration": 186,
                        "remaining_time": 0.5555365119,
                        "learn": [
                          0.003434397951,
                          1
                        ]
                      },
                      {
                        "test": [
                          0.5002583276,
                          0.5,
                          0.75
                        ],
                        "passed_time": 0.333195313,
                        "iteration": 187,
                        "remaining_time": 0.5529624343,
                        "learn": [
                          0.00341080888,
                          1
                        ]
                      },
                      {
                        "test": [
                          0.5002871156,
                          0.5,
                          0.75
                        ],
                        "passed_time": 0.3345767255,
                        "iteration": 188,
                        "remaining_time": 0.550546887,
                        "learn": [
                          0.003386977015,
                          1
                        ]
                      },
                      {
                        "test": [
                          0.501946205,
                          0.5,
                          0.75
                        ],
                        "passed_time": 0.3359094998,
                        "iteration": 189,
                        "remaining_time": 0.548062868,
                        "learn": [
                          0.003365866323,
                          1
                        ]
                      },
                      {
                        "test": [
                          0.5030957139,
                          0.5,
                          0.75
                        ],
                        "passed_time": 0.3372326039,
                        "iteration": 190,
                        "remaining_time": 0.5455752597,
                        "learn": [
                          0.003345095755,
                          1
                        ]
                      },
                      {
                        "test": [
                          0.5047588569,
                          0.5,
                          0.75
                        ],
                        "passed_time": 0.3386381295,
                        "iteration": 191,
                        "remaining_time": 0.5432319993,
                        "learn": [
                          0.003320074104,
                          1
                        ]
                      },
                      {
                        "test": [
                          0.5060084367,
                          0.5,
                          0.75
                        ],
                        "passed_time": 0.3399667923,
                        "iteration": 192,
                        "remaining_time": 0.5407761929,
                        "learn": [
                          0.003296268106,
                          1
                        ]
                      },
                      {
                        "test": [
                          0.5064088923,
                          0.5,
                          0.75
                        ],
                        "passed_time": 0.3413132017,
                        "iteration": 193,
                        "remaining_time": 0.5383599986,
                        "learn": [
                          0.003282726849,
                          1
                        ]
                      },
                      {
                        "test": [
                          0.506257297,
                          0.5,
                          0.75
                        ],
                        "passed_time": 0.3426979638,
                        "iteration": 194,
                        "remaining_time": 0.536014764,
                        "learn": [
                          0.003263944358,
                          1
                        ]
                      },
                      {
                        "test": [
                          0.5067696691,
                          0.5,
                          0.75
                        ],
                        "passed_time": 0.344030024,
                        "iteration": 195,
                        "remaining_time": 0.5335975882,
                        "learn": [
                          0.003250572392,
                          1
                        ]
                      },
                      {
                        "test": [
                          0.5066941198,
                          0.5,
                          0.75
                        ],
                        "passed_time": 0.3453482135,
                        "iteration": 196,
                        "remaining_time": 0.5311700949,
                        "learn": [
                          0.003231212625,
                          1
                        ]
                      },
                      {
                        "test": [
                          0.5070600396,
                          0.5,
                          0.75
                        ],
                        "passed_time": 0.3470418397,
                        "iteration": 197,
                        "remaining_time": 0.5293264424,
                        "learn": [
                          0.003218101826,
                          1
                        ]
                      },
                      {
                        "test": [
                          0.5070542201,
                          0.5,
                          0.75
                        ],
                        "passed_time": 0.3483538528,
                        "iteration": 198,
                        "remaining_time": 0.5269070839,
                        "learn": [
                          0.00319613251,
                          1
                        ]
                      },
                      {
                        "test": [
                          0.5074618109,
                          0.5,
                          0.75
                        ],
                        "passed_time": 0.3497645353,
                        "iteration": 199,
                        "remaining_time": 0.5246468029,
                        "learn": [
                          0.003181719175,
                          1
                        ]
                      },
                      {
                        "test": [
                          0.5080716818,
                          0.5,
                          0.75
                        ],
                        "passed_time": 0.3510897094,
                        "iteration": 200,
                        "remaining_time": 0.5222677767,
                        "learn": [
                          0.003170717067,
                          1
                        ]
                      },
                      {
                        "test": [
                          0.5073683722,
                          0.5,
                          0.75
                        ],
                        "passed_time": 0.3524093749,
                        "iteration": 201,
                        "remaining_time": 0.519891058,
                        "learn": [
                          0.003157643015,
                          1
                        ]
                      },
                      {
                        "test": [
                          0.5075344685,
                          0.5,
                          0.75
                        ],
                        "passed_time": 0.3537236539,
                        "iteration": 202,
                        "remaining_time": 0.517516873,
                        "learn": [
                          0.003145495768,
                          1
                        ]
                      },
                      {
                        "test": [
                          0.5072817391,
                          0.5,
                          0.75
                        ],
                        "passed_time": 0.3550854008,
                        "iteration": 203,
                        "remaining_time": 0.5152219541,
                        "learn": [
                          0.003135145559,
                          1
                        ]
                      },
                      {
                        "test": [
                          0.5080024026,
                          0.5,
                          0.75
                        ],
                        "passed_time": 0.3563940043,
                        "iteration": 204,
                        "remaining_time": 0.5128596647,
                        "learn": [
                          0.003119242805,
                          1
                        ]
                      },
                      {
                        "test": [
                          0.5083497249,
                          0.5,
                          0.75
                        ],
                        "passed_time": 0.3577167794,
                        "iteration": 205,
                        "remaining_time": 0.5105278307,
                        "learn": [
                          0.003104083022,
                          1
                        ]
                      },
                      {
                        "test": [
                          0.508619941,
                          0.5,
                          0.75
                        ],
                        "passed_time": 0.3590441513,
                        "iteration": 206,
                        "remaining_time": 0.5082122528,
                        "learn": [
                          0.003090615761,
                          1
                        ]
                      },
                      {
                        "test": [
                          0.5095958999,
                          0.5,
                          0.75
                        ],
                        "passed_time": 0.3603623785,
                        "iteration": 207,
                        "remaining_time": 0.5058933391,
                        "learn": [
                          0.003072716712,
                          1
                        ]
                      },
                      {
                        "test": [
                          0.5092074516,
                          0.5,
                          0.75
                        ],
                        "passed_time": 0.3617141262,
                        "iteration": 208,
                        "remaining_time": 0.5036306733,
                        "learn": [
                          0.003057170236,
                          1
                        ]
                      },
                      {
                        "test": [
                          0.509379731,
                          0.5,
                          0.75
                        ],
                        "passed_time": 0.3630268761,
                        "iteration": 209,
                        "remaining_time": 0.5013228289,
                        "learn": [
                          0.003046291315,
                          1
                        ]
                      },
                      {
                        "test": [
                          0.5102658266,
                          0.5,
                          0.75
                        ],
                        "passed_time": 0.3643420188,
                        "iteration": 210,
                        "remaining_time": 0.499027694,
                        "learn": [
                          0.003027017763,
                          1
                        ]
                      },
                      {
                        "test": [
                          0.5099449472,
                          0.5,
                          0.75
                        ],
                        "passed_time": 0.3656573424,
                        "iteration": 211,
                        "remaining_time": 0.49674205,
                        "learn": [
                          0.00301569753,
                          1
                        ]
                      },
                      {
                        "test": [
                          0.5098134392,
                          0.5,
                          0.75
                        ],
                        "passed_time": 0.3669636695,
                        "iteration": 212,
                        "remaining_time": 0.4944533951,
                        "learn": [
                          0.003001716587,
                          1
                        ]
                      },
                      {
                        "test": [
                          0.5099114666,
                          0.5,
                          0.75
                        ],
                        "passed_time": 0.3683415593,
                        "iteration": 213,
                        "remaining_time": 0.4922695606,
                        "learn": [
                          0.002989034793,
                          1
                        ]
                      },
                      {
                        "test": [
                          0.5109697521,
                          0.5,
                          0.75
                        ],
                        "passed_time": 0.3696654712,
                        "iteration": 214,
                        "remaining_time": 0.4900216711,
                        "learn": [
                          0.002973367011,
                          1
                        ]
                      },
                      {
                        "test": [
                          0.5114745813,
                          0.5,
                          0.75
                        ],
                        "passed_time": 0.3709884503,
                        "iteration": 215,
                        "remaining_time": 0.4877811106,
                        "learn": [
                          0.002958195449,
                          1
                        ]
                      },
                      {
                        "test": [
                          0.5113974318,
                          0.5,
                          0.75
                        ],
                        "passed_time": 0.3724797701,
                        "iteration": 216,
                        "remaining_time": 0.485768548,
                        "learn": [
                          0.002946655558,
                          1
                        ]
                      },
                      {
                        "test": [
                          0.5112131901,
                          0.5,
                          0.75
                        ],
                        "passed_time": 0.3739086759,
                        "iteration": 217,
                        "remaining_time": 0.4836800303,
                        "learn": [
                          0.002932489951,
                          1
                        ]
                      },
                      {
                        "test": [
                          0.5110875319,
                          0.5,
                          0.75
                        ],
                        "passed_time": 0.3755471305,
                        "iteration": 218,
                        "remaining_time": 0.4818664095,
                        "learn": [
                          0.002917782421,
                          1
                        ]
                      },
                      {
                        "test": [
                          0.5121780364,
                          0.5,
                          0.75
                        ],
                        "passed_time": 0.3769255767,
                        "iteration": 219,
                        "remaining_time": 0.4797234612,
                        "learn": [
                          0.002903621947,
                          1
                        ]
                      },
                      {
                        "test": [
                          0.5130595565,
                          0.5,
                          0.75
                        ],
                        "passed_time": 0.378282948,
                        "iteration": 220,
                        "remaining_time": 0.4775608258,
                        "learn": [
                          0.002885111262,
                          1
                        ]
                      },
                      {
                        "test": [
                          0.5135740686,
                          0.5,
                          0.75
                        ],
                        "passed_time": 0.379621941,
                        "iteration": 221,
                        "remaining_time": 0.4753824306,
                        "learn": [
                          0.002873706895,
                          1
                        ]
                      },
                      {
                        "test": [
                          0.5139887774,
                          0.5,
                          0.75
                        ],
                        "passed_time": 0.3809296304,
                        "iteration": 222,
                        "remaining_time": 0.4731726799,
                        "learn": [
                          0.002856315611,
                          1
                        ]
                      },
                      {
                        "test": [
                          0.5143386376,
                          0.5,
                          0.75
                        ],
                        "passed_time": 0.3822403994,
                        "iteration": 223,
                        "remaining_time": 0.4709747778,
                        "learn": [
                          0.002838916771,
                          1
                        ]
                      },
                      {
                        "test": [
                          0.514405973,
                          0.5,
                          0.75
                        ],
                        "passed_time": 0.3836559451,
                        "iteration": 224,
                        "remaining_time": 0.4689128218,
                        "learn": [
                          0.002828674423,
                          1
                        ]
                      },
                      {
                        "test": [
                          0.5147015105,
                          0.5,
                          0.75
                        ],
                        "passed_time": 0.3849474498,
                        "iteration": 225,
                        "remaining_time": 0.4667062002,
                        "learn": [
                          0.00281225372,
                          1
                        ]
                      },
                      {
                        "test": [
                          0.5152909174,
                          0.5,
                          0.75
                        ],
                        "passed_time": 0.3862680752,
                        "iteration": 226,
                        "remaining_time": 0.4645426632,
                        "learn": [
                          0.002800048036,
                          1
                        ]
                      },
                      {
                        "test": [
                          0.5143067869,
                          0.5,
                          0.75
                        ],
                        "passed_time": 0.3875856834,
                        "iteration": 227,
                        "remaining_time": 0.4623829206,
                        "learn": [
                          0.002790661639,
                          1
                        ]
                      },
                      {
                        "test": [
                          0.5148842782,
                          0.5,
                          0.75
                        ],
                        "passed_time": 0.3889309746,
                        "iteration": 228,
                        "remaining_time": 0.4602632931,
                        "learn": [
                          0.002778345058,
                          1
                        ]
                      },
                      {
                        "test": [
                          0.5146971948,
                          0.5,
                          0.75
                        ],
                        "passed_time": 0.3902319885,
                        "iteration": 229,
                        "remaining_time": 0.4580984213,
                        "learn": [
                          0.00276418741,
                          1
                        ]
                      },
                      {
                        "test": [
                          0.5143958759,
                          0.5,
                          0.75
                        ],
                        "passed_time": 0.3915636009,
                        "iteration": 230,
                        "remaining_time": 0.4559766608,
                        "learn": [
                          0.002748048497,
                          1
                        ]
                      },
                      {
                        "test": [
                          0.5147239329,
                          0.5,
                          0.75
                        ],
                        "passed_time": 0.3928871037,
                        "iteration": 231,
                        "remaining_time": 0.4538523439,
                        "learn": [
                          0.002738188686,
                          1
                        ]
                      },
                      {
                        "test": [
                          0.5149892405,
                          0.5,
                          0.75
                        ],
                        "passed_time": 0.3941740306,
                        "iteration": 232,
                        "remaining_time": 0.4516929879,
                        "learn": [
                          0.002728473904,
                          1
                        ]
                      },
                      {
                        "test": [
                          0.5149439919,
                          0.5,
                          0.75
                        ],
                        "passed_time": 0.3954753277,
                        "iteration": 233,
                        "remaining_time": 0.4495574238,
                        "learn": [
                          0.002713436099,
                          1
                        ]
                      },
                      {
                        "test": [
                          0.515494721,
                          0.5,
                          0.75
                        ],
                        "passed_time": 0.3968011877,
                        "iteration": 234,
                        "remaining_time": 0.4474566585,
                        "learn": [
                          0.002703385283,
                          1
                        ]
                      },
                      {
                        "test": [
                          0.5157737572,
                          0.5,
                          0.75
                        ],
                        "passed_time": 0.3981365316,
                        "iteration": 235,
                        "remaining_time": 0.4453730692,
                        "learn": [
                          0.002689347276,
                          1
                        ]
                      },
                      {
                        "test": [
                          0.5158183741,
                          0.5,
                          0.75
                        ],
                        "passed_time": 0.3994874938,
                        "iteration": 236,
                        "remaining_time": 0.443313126,
                        "learn": [
                          0.002676059921,
                          1
                        ]
                      },
                      {
                        "test": [
                          0.5158361258,
                          0.5,
                          0.75
                        ],
                        "passed_time": 0.4008335182,
                        "iteration": 237,
                        "remaining_time": 0.4412537049,
                        "learn": [
                          0.002668478885,
                          1
                        ]
                      },
                      {
                        "test": [
                          0.5159352237,
                          0.5,
                          0.75
                        ],
                        "passed_time": 0.4022597353,
                        "iteration": 238,
                        "remaining_time": 0.4392878281,
                        "learn": [
                          0.002660140151,
                          1
                        ]
                      },
                      {
                        "test": [
                          0.5165012135,
                          0.5,
                          0.75
                        ],
                        "passed_time": 0.4035828222,
                        "iteration": 239,
                        "remaining_time": 0.437214724,
                        "learn": [
                          0.002648867902,
                          1
                        ]
                      },
                      {
                        "test": [
                          0.5162864461,
                          0.5,
                          0.75
                        ],
                        "passed_time": 0.4049384072,
                        "iteration": 240,
                        "remaining_time": 0.4351827695,
                        "learn": [
                          0.002640346066,
                          1
                        ]
                      },
                      {
                        "test": [
                          0.5164795991,
                          0.5,
                          0.75
                        ],
                        "passed_time": 0.4063407713,
                        "iteration": 241,
                        "remaining_time": 0.4332062769,
                        "learn": [
                          0.0026325623,
                          1
                        ]
                      },
                      {
                        "test": [
                          0.5166299524,
                          0.5,
                          0.75
                        ],
                        "passed_time": 0.4076730797,
                        "iteration": 242,
                        "remaining_time": 0.4311604176,
                        "learn": [
                          0.002623957861,
                          1
                        ]
                      },
                      {
                        "test": [
                          0.5167196295,
                          0.5,
                          0.75
                        ],
                        "passed_time": 0.4091254217,
                        "iteration": 243,
                        "remaining_time": 0.4292463441,
                        "learn": [
                          0.002615452014,
                          1
                        ]
                      },
                      {
                        "test": [
                          0.5167150007,
                          0.5,
                          0.75
                        ],
                        "passed_time": 0.4106762458,
                        "iteration": 244,
                        "remaining_time": 0.4274385415,
                        "learn": [
                          0.002605081132,
                          1
                        ]
                      },
                      {
                        "test": [
                          0.5167981838,
                          0.5,
                          0.75
                        ],
                        "passed_time": 0.412187293,
                        "iteration": 245,
                        "remaining_time": 0.4255917578,
                        "learn": [
                          0.002596959073,
                          1
                        ]
                      },
                      {
                        "test": [
                          0.5171608337,
                          0.5,
                          0.75
                        ],
                        "passed_time": 0.4137070999,
                        "iteration": 246,
                        "remaining_time": 0.4237566651,
                        "learn": [
                          0.002586629023,
                          1
                        ]
                      },
                      {
                        "test": [
                          0.51776235,
                          0.5,
                          0.75
                        ],
                        "passed_time": 0.4151944296,
                        "iteration": 247,
                        "remaining_time": 0.421891114,
                        "learn": [
                          0.002575093647,
                          1
                        ]
                      },
                      {
                        "test": [
                          0.5179326808,
                          0.5,
                          0.75
                        ],
                        "passed_time": 0.4167424032,
                        "iteration": 248,
                        "remaining_time": 0.4200897317,
                        "learn": [
                          0.002565744355,
                          1
                        ]
                      },
                      {
                        "test": [
                          0.518209435,
                          0.5,
                          0.75
                        ],
                        "passed_time": 0.4182379875,
                        "iteration": 249,
                        "remaining_time": 0.4182379875,
                        "learn": [
                          0.002556011561,
                          1
                        ]
                      },
                      {
                        "test": [
                          0.5187073439,
                          0.5,
                          0.75
                        ],
                        "passed_time": 0.4197384428,
                        "iteration": 250,
                        "remaining_time": 0.4163939134,
                        "learn": [
                          0.002548042049,
                          1
                        ]
                      },
                      {
                        "test": [
                          0.5190129192,
                          0.5,
                          0.75
                        ],
                        "passed_time": 0.4212374022,
                        "iteration": 251,
                        "remaining_time": 0.4145510943,
                        "learn": [
                          0.002540301878,
                          1
                        ]
                      },
                      {
                        "test": [
                          0.5196465773,
                          0.5,
                          0.75
                        ],
                        "passed_time": 0.4227400744,
                        "iteration": 252,
                        "remaining_time": 0.4127146181,
                        "learn": [
                          0.002529632093,
                          1
                        ]
                      },
                      {
                        "test": [
                          0.5195788727,
                          0.5,
                          0.75
                        ],
                        "passed_time": 0.4242654654,
                        "iteration": 253,
                        "remaining_time": 0.4109027736,
                        "learn": [
                          0.002519894275,
                          1
                        ]
                      },
                      {
                        "test": [
                          0.51961219,
                          0.5,
                          0.75
                        ],
                        "passed_time": 0.4260334698,
                        "iteration": 254,
                        "remaining_time": 0.4093262749,
                        "learn": [
                          0.002510734617,
                          1
                        ]
                      },
                      {
                        "test": [
                          0.5204570428,
                          0.5,
                          0.75
                        ],
                        "passed_time": 0.4298548423,
                        "iteration": 255,
                        "remaining_time": 0.4097053966,
                        "learn": [
                          0.002500780465,
                          1
                        ]
                      },
                      {
                        "test": [
                          0.520690345,
                          0.5,
                          0.75
                        ],
                        "passed_time": 0.4318774551,
                        "iteration": 256,
                        "remaining_time": 0.4083510567,
                        "learn": [
                          0.002491625259,
                          1
                        ]
                      },
                      {
                        "test": [
                          0.5208219815,
                          0.5,
                          0.75
                        ],
                        "passed_time": 0.4352457132,
                        "iteration": 257,
                        "remaining_time": 0.408253731,
                        "learn": [
                          0.002481754527,
                          1
                        ]
                      },
                      {
                        "test": [
                          0.5214314852,
                          0.5,
                          0.75
                        ],
                        "passed_time": 0.436647716,
                        "iteration": 258,
                        "remaining_time": 0.4063015427,
                        "learn": [
                          0.002473564292,
                          1
                        ]
                      },
                      {
                        "test": [
                          0.5218561113,
                          0.5,
                          0.75
                        ],
                        "passed_time": 0.438000295,
                        "iteration": 259,
                        "remaining_time": 0.4043079646,
                        "learn": [
                          0.002463354916,
                          1
                        ]
                      },
                      {
                        "test": [
                          0.5221911612,
                          0.5,
                          0.75
                        ],
                        "passed_time": 0.4393103849,
                        "iteration": 260,
                        "remaining_time": 0.4022803908,
                        "learn": [
                          0.002455859524,
                          1
                        ]
                      },
                      {
                        "test": [
                          0.5222305332,
                          0.5,
                          0.75
                        ],
                        "passed_time": 0.4406300381,
                        "iteration": 261,
                        "remaining_time": 0.4002669812,
                        "learn": [
                          0.002450225783,
                          1
                        ]
                      },
                      {
                        "test": [
                          0.5226191979,
                          0.5,
                          0.75
                        ],
                        "passed_time": 0.4420422851,
                        "iteration": 262,
                        "remaining_time": 0.3983422873,
                        "learn": [
                          0.00243988863,
                          1
                        ]
                      },
                      {
                        "test": [
                          0.523341101,
                          0.5,
                          0.75
                        ],
                        "passed_time": 0.4433998474,
                        "iteration": 263,
                        "remaining_time": 0.3963725908,
                        "learn": [
                          0.00243050253,
                          1
                        ]
                      },
                      {
                        "test": [
                          0.5236182525,
                          0.5,
                          0.75
                        ],
                        "passed_time": 0.444690312,
                        "iteration": 264,
                        "remaining_time": 0.3943480125,
                        "learn": [
                          0.002421498112,
                          1
                        ]
                      },
                      {
                        "test": [
                          0.5233509603,
                          0.5,
                          0.75
                        ],
                        "passed_time": 0.4460108979,
                        "iteration": 265,
                        "remaining_time": 0.3923554516,
                        "learn": [
                          0.002412756729,
                          1
                        ]
                      },
                      {
                        "test": [
                          0.5231845172,
                          0.5,
                          0.75
                        ],
                        "passed_time": 0.4472937952,
                        "iteration": 266,
                        "remaining_time": 0.3903350348,
                        "learn": [
                          0.002405310408,
                          1
                        ]
                      },
                      {
                        "test": [
                          0.523131542,
                          0.5,
                          0.75
                        ],
                        "passed_time": 0.4486139789,
                        "iteration": 267,
                        "remaining_time": 0.3883523996,
                        "learn": [
                          0.002398609915,
                          1
                        ]
                      },
                      {
                        "test": [
                          0.5233148055,
                          0.5,
                          0.75
                        ],
                        "passed_time": 0.449945729,
                        "iteration": 268,
                        "remaining_time": 0.3863846223,
                        "learn": [
                          0.002388926482,
                          1
                        ]
                      },
                      {
                        "test": [
                          0.5238909735,
                          0.5,
                          0.75
                        ],
                        "passed_time": 0.4512326128,
                        "iteration": 269,
                        "remaining_time": 0.3843833368,
                        "learn": [
                          0.002379452003,
                          1
                        ]
                      },
                      {
                        "test": [
                          0.5241531067,
                          0.5,
                          0.75
                        ],
                        "passed_time": 0.4525660007,
                        "iteration": 270,
                        "remaining_time": 0.3824266205,
                        "learn": [
                          0.002371564541,
                          1
                        ]
                      },
                      {
                        "test": [
                          0.5242146251,
                          0.5,
                          0.75
                        ],
                        "passed_time": 0.4538629718,
                        "iteration": 271,
                        "remaining_time": 0.3804439616,
                        "learn": [
                          0.002360312763,
                          1
                        ]
                      },
                      {
                        "test": [
                          0.5242908692,
                          0.5,
                          0.75
                        ],
                        "passed_time": 0.4551617324,
                        "iteration": 272,
                        "remaining_time": 0.3784678141,
                        "learn": [
                          0.002350935949,
                          1
                        ]
                      },
                      {
                        "test": [
                          0.5240718273,
                          0.5,
                          0.75
                        ],
                        "passed_time": 0.4564755624,
                        "iteration": 273,
                        "remaining_time": 0.3765090405,
                        "learn": [
                          0.002344257922,
                          1
                        ]
                      },
                      {
                        "test": [
                          0.5243569533,
                          0.5,
                          0.75
                        ],
                        "passed_time": 0.4578318587,
                        "iteration": 274,
                        "remaining_time": 0.3745897026,
                        "learn": [
                          0.002337348319,
                          1
                        ]
                      },
                      {
                        "test": [
                          0.5245028939,
                          0.5,
                          0.75
                        ],
                        "passed_time": 0.4591517278,
                        "iteration": 275,
                        "remaining_time": 0.3726448805,
                        "learn": [
                          0.002328455611,
                          1
                        ]
                      },
                      {
                        "test": [
                          0.5253081628,
                          0.5,
                          0.75
                        ],
                        "passed_time": 0.4605274517,
                        "iteration": 276,
                        "remaining_time": 0.3707495369,
                        "learn": [
                          0.002320490888,
                          1
                        ]
                      },
                      {
                        "test": [
                          0.5256456445,
                          0.5,
                          0.75
                        ],
                        "passed_time": 0.4618780825,
                        "iteration": 277,
                        "remaining_time": 0.3688378932,
                        "learn": [
                          0.002313191492,
                          1
                        ]
                      },
                      {
                        "test": [
                          0.525485487,
                          0.5,
                          0.75
                        ],
                        "passed_time": 0.4632619937,
                        "iteration": 278,
                        "remaining_time": 0.366956633,
                        "learn": [
                          0.002305794366,
                          1
                        ]
                      },
                      {
                        "test": [
                          0.5257945309,
                          0.5,
                          0.75
                        ],
                        "passed_time": 0.4645884206,
                        "iteration": 279,
                        "remaining_time": 0.365033759,
                        "learn": [
                          0.002298516247,
                          1
                        ]
                      },
                      {
                        "test": [
                          0.5261353401,
                          0.5,
                          0.75
                        ],
                        "passed_time": 0.4659290231,
                        "iteration": 280,
                        "remaining_time": 0.3631261782,
                        "learn": [
                          0.00228831139,
                          1
                        ]
                      },
                      {
                        "test": [
                          0.5265232017,
                          0.5,
                          0.75
                        ],
                        "passed_time": 0.4673609281,
                        "iteration": 281,
                        "remaining_time": 0.3612931997,
                        "learn": [
                          0.002280927262,
                          1
                        ]
                      },
                      {
                        "test": [
                          0.5266199601,
                          0.5,
                          0.75
                        ],
                        "passed_time": 0.4688083455,
                        "iteration": 282,
                        "remaining_time": 0.3594749504,
                        "learn": [
                          0.002273993466,
                          1
                        ]
                      },
                      {
                        "test": [
                          0.527183075,
                          0.5,
                          0.75
                        ],
                        "passed_time": 0.4702819587,
                        "iteration": 283,
                        "remaining_time": 0.3576792362,
                        "learn": [
                          0.002262687289,
                          1
                        ]
                      },
                      {
                        "test": [
                          0.5275622451,
                          0.5,
                          0.75
                        ],
                        "passed_time": 0.4717500636,
                        "iteration": 284,
                        "remaining_time": 0.3558816269,
                        "learn": [
                          0.002256527741,
                          1
                        ]
                      },
                      {
                        "test": [
                          0.5278759998,
                          0.5,
                          0.75
                        ],
                        "passed_time": 0.4740683526,
                        "iteration": 285,
                        "remaining_time": 0.3547224736,
                        "learn": [
                          0.002249091645,
                          1
                        ]
                      },
                      {
                        "test": [
                          0.5278800312,
                          0.5,
                          0.75
                        ],
                        "passed_time": 0.4757140173,
                        "iteration": 286,
                        "remaining_time": 0.3530560477,
                        "learn": [
                          0.002239969359,
                          1
                        ]
                      },
                      {
                        "test": [
                          0.527942981,
                          0.5,
                          0.75
                        ],
                        "passed_time": 0.4772248009,
                        "iteration": 287,
                        "remaining_time": 0.3512904785,
                        "learn": [
                          0.002233278671,
                          1
                        ]
                      },
                      {
                        "test": [
                          0.5282929716,
                          0.5,
                          0.75
                        ],
                        "passed_time": 0.4786454817,
                        "iteration": 288,
                        "remaining_time": 0.349460888,
                        "learn": [
                          0.002224996175,
                          1
                        ]
                      },
                      {
                        "test": [
                          0.5286114043,
                          0.5,
                          0.75
                        ],
                        "passed_time": 0.48001739,
                        "iteration": 289,
                        "remaining_time": 0.3475987997,
                        "learn": [
                          0.002218816495,
                          1
                        ]
                      },
                      {
                        "test": [
                          0.5286386872,
                          0.5,
                          0.75
                        ],
                        "passed_time": 0.4814100186,
                        "iteration": 290,
                        "remaining_time": 0.3457549618,
                        "learn": [
                          0.00221233746,
                          1
                        ]
                      },
                      {
                        "test": [
                          0.5285636775,
                          0.5,
                          0.75
                        ],
                        "passed_time": 0.4827755741,
                        "iteration": 291,
                        "remaining_time": 0.3438949295,
                        "learn": [
                          0.002203698365,
                          1
                        ]
                      },
                      {
                        "test": [
                          0.5289917143,
                          0.5,
                          0.75
                        ],
                        "passed_time": 0.483638567,
                        "iteration": 292,
                        "remaining_time": 0.3416832197,
                        "learn": [
                          0.00219081011,
                          1
                        ]
                      },
                      {
                        "test": [
                          0.5288918263,
                          0.5,
                          0.75
                        ],
                        "passed_time": 0.4849677194,
                        "iteration": 293,
                        "remaining_time": 0.3398073136,
                        "learn": [
                          0.00218153534,
                          1
                        ]
                      },
                      {
                        "test": [
                          0.5289141758,
                          0.5,
                          0.75
                        ],
                        "passed_time": 0.4865066588,
                        "iteration": 294,
                        "remaining_time": 0.3380808985,
                        "learn": [
                          0.002173171197,
                          1
                        ]
                      },
                      {
                        "test": [
                          0.5287833017,
                          0.5,
                          0.75
                        ],
                        "passed_time": 0.4879339446,
                        "iteration": 295,
                        "remaining_time": 0.3362787996,
                        "learn": [
                          0.002165419612,
                          1
                        ]
                      },
                      {
                        "test": [
                          0.5287942864,
                          0.5,
                          0.75
                        ],
                        "passed_time": 0.4893521921,
                        "iteration": 296,
                        "remaining_time": 0.3344730471,
                        "learn": [
                          0.002160153783,
                          1
                        ]
                      },
                      {
                        "test": [
                          0.5291909302,
                          0.5,
                          0.75
                        ],
                        "passed_time": 0.4907665832,
                        "iteration": 297,
                        "remaining_time": 0.3326672812,
                        "learn": [
                          0.00215465738,
                          1
                        ]
                      },
                      {
                        "test": [
                          0.529589822,
                          0.5,
                          0.75
                        ],
                        "passed_time": 0.4920981906,
                        "iteration": 298,
                        "remaining_time": 0.3308084827,
                        "learn": [
                          0.002147760856,
                          1
                        ]
                      },
                      {
                        "test": [
                          0.529481915,
                          0.5,
                          0.75
                        ],
                        "passed_time": 0.4934257994,
                        "iteration": 299,
                        "remaining_time": 0.3289505329,
                        "learn": [
                          0.002142029597,
                          1
                        ]
                      },
                      {
                        "test": [
                          0.5294314556,
                          0.5,
                          0.75
                        ],
                        "passed_time": 0.4947322915,
                        "iteration": 300,
                        "remaining_time": 0.3270821462,
                        "learn": [
                          0.002135381187,
                          1
                        ]
                      },
                      {
                        "test": [
                          0.5295221831,
                          0.5,
                          0.75
                        ],
                        "passed_time": 0.4960585193,
                        "iteration": 301,
                        "remaining_time": 0.32523042,
                        "learn": [
                          0.002129526285,
                          1
                        ]
                      },
                      {
                        "test": [
                          0.5293426044,
                          0.5,
                          0.75
                        ],
                        "passed_time": 0.4973973664,
                        "iteration": 302,
                        "remaining_time": 0.3233903669,
                        "learn": [
                          0.002122881537,
                          1
                        ]
                      },
                      {
                        "test": [
                          0.5300341978,
                          0.5,
                          0.75
                        ],
                        "passed_time": 0.4987463145,
                        "iteration": 303,
                        "remaining_time": 0.3215601238,
                        "learn": [
                          0.002113265919,
                          1
                        ]
                      },
                      {
                        "test": [
                          0.5297397978,
                          0.5,
                          0.75
                        ],
                        "passed_time": 0.5001292338,
                        "iteration": 304,
                        "remaining_time": 0.3197547561,
                        "learn": [
                          0.002107317023,
                          1
                        ]
                      },
                      {
                        "test": [
                          0.5298065083,
                          0.5,
                          0.75
                        ],
                        "passed_time": 0.5016473798,
                        "iteration": 305,
                        "remaining_time": 0.3180378813,
                        "learn": [
                          0.002101645929,
                          1
                        ]
                      },
                      {
                        "test": [
                          0.5297995432,
                          0.5,
                          0.75
                        ],
                        "passed_time": 0.503224771,
                        "iteration": 306,
                        "remaining_time": 0.3163595466,
                        "learn": [
                          0.002095067597,
                          1
                        ]
                      },
                      {
                        "test": [
                          0.5297725163,
                          0.5,
                          0.75
                        ],
                        "passed_time": 0.5041225752,
                        "iteration": 307,
                        "remaining_time": 0.3142582287,
                        "learn": [
                          0.002082486024,
                          1
                        ]
                      },
                      {
                        "test": [
                          0.5294488407,
                          0.5,
                          0.75
                        ],
                        "passed_time": 0.5057128543,
                        "iteration": 308,
                        "remaining_time": 0.3125927352,
                        "learn": [
                          0.00207442193,
                          1
                        ]
                      },
                      {
                        "test": [
                          0.5293638873,
                          0.5,
                          0.75
                        ],
                        "passed_time": 0.5070830167,
                        "iteration": 309,
                        "remaining_time": 0.3107928167,
                        "learn": [
                          0.002068649958,
                          1
                        ]
                      },
                      {
                        "test": [
                          0.5297029011,
                          0.5,
                          0.75
                        ],
                        "passed_time": 0.5084249424,
                        "iteration": 310,
                        "remaining_time": 0.308978502,
                        "learn": [
                          0.002062194778,
                          1
                        ]
                      },
                      {
                        "test": [
                          0.530358075,
                          0.5,
                          0.75
                        ],
                        "passed_time": 0.5097673472,
                        "iteration": 311,
                        "remaining_time": 0.3071675041,
                        "learn": [
                          0.002056376815,
                          1
                        ]
                      },
                      {
                        "test": [
                          0.5307374935,
                          0.5,
                          0.75
                        ],
                        "passed_time": 0.5111184162,
                        "iteration": 312,
                        "remaining_time": 0.3053646768,
                        "learn": [
                          0.002049712375,
                          1
                        ]
                      },
                      {
                        "test": [
                          0.5312912867,
                          0.5,
                          0.75
                        ],
                        "passed_time": 0.5124516487,
                        "iteration": 313,
                        "remaining_time": 0.3035541613,
                        "learn": [
                          0.002043740394,
                          1
                        ]
                      },
                      {
                        "test": [
                          0.5316929802,
                          0.5,
                          0.75
                        ],
                        "passed_time": 0.51377241,
                        "iteration": 314,
                        "remaining_time": 0.3017393519,
                        "learn": [
                          0.002034567199,
                          1
                        ]
                      },
                      {
                        "test": [
                          0.5318786639,
                          0.5,
                          0.75
                        ],
                        "passed_time": 0.5151288764,
                        "iteration": 315,
                        "remaining_time": 0.2999484597,
                        "learn": [
                          0.002028715536,
                          1
                        ]
                      },
                      {
                        "test": [
                          0.532142122,
                          0.5,
                          0.75
                        ],
                        "passed_time": 0.5164765936,
                        "iteration": 316,
                        "remaining_time": 0.2981552575,
                        "learn": [
                          0.002020518326,
                          1
                        ]
                      },
                      {
                        "test": [
                          0.532271585,
                          0.5,
                          0.75
                        ],
                        "passed_time": 0.5179233719,
                        "iteration": 317,
                        "remaining_time": 0.2964215525,
                        "learn": [
                          0.002015772181,
                          1
                        ]
                      },
                      {
                        "test": [
                          0.532797052,
                          0.5,
                          0.75
                        ],
                        "passed_time": 0.5192535847,
                        "iteration": 318,
                        "remaining_time": 0.2946235073,
                        "learn": [
                          0.002010299846,
                          1
                        ]
                      },
                      {
                        "test": [
                          0.5327022388,
                          0.5,
                          0.75
                        ],
                        "passed_time": 0.5206148348,
                        "iteration": 319,
                        "remaining_time": 0.2928458446,
                        "learn": [
                          0.00200591294,
                          1
                        ]
                      },
                      {
                        "test": [
                          0.5329594297,
                          0.5,
                          0.75
                        ],
                        "passed_time": 0.5229363783,
                        "iteration": 320,
                        "remaining_time": 0.291606267,
                        "learn": [
                          0.00199878535,
                          1
                        ]
                      },
                      {
                        "test": [
                          0.5331831555,
                          0.5,
                          0.75
                        ],
                        "passed_time": 0.5252510704,
                        "iteration": 321,
                        "remaining_time": 0.2903561818,
                        "learn": [
                          0.00199028775,
                          1
                        ]
                      },
                      {
                        "test": [
                          0.5343964532,
                          0.5,
                          0.75
                        ],
                        "passed_time": 0.5266410713,
                        "iteration": 322,
                        "remaining_time": 0.2885927852,
                        "learn": [
                          0.001981787393,
                          1
                        ]
                      },
                      {
                        "test": [
                          0.5347554157,
                          0.5,
                          0.75
                        ],
                        "passed_time": 0.5280352681,
                        "iteration": 323,
                        "remaining_time": 0.2868339728,
                        "learn": [
                          0.001975831782,
                          1
                        ]
                      },
                      {
                        "test": [
                          0.5344776502,
                          0.5,
                          0.75
                        ],
                        "passed_time": 0.5294252021,
                        "iteration": 324,
                        "remaining_time": 0.2850751088,
                        "learn": [
                          0.001971072179,
                          1
                        ]
                      },
                      {
                        "test": [
                          0.5344100937,
                          0.5,
                          0.75
                        ],
                        "passed_time": 0.5310162953,
                        "iteration": 325,
                        "remaining_time": 0.2834258754,
                        "learn": [
                          0.001963960519,
                          1
                        ]
                      },
                      {
                        "test": [
                          0.5350212667,
                          0.5,
                          0.75
                        ],
                        "passed_time": 0.5323585005,
                        "iteration": 326,
                        "remaining_time": 0.2816453229,
                        "learn": [
                          0.001954694855,
                          1
                        ]
                      },
                      {
                        "test": [
                          0.5350331928,
                          0.5,
                          0.75
                        ],
                        "passed_time": 0.5336854784,
                        "iteration": 327,
                        "remaining_time": 0.2798594582,
                        "learn": [
                          0.001950111986,
                          1
                        ]
                      },
                      {
                        "test": [
                          0.5344584152,
                          0.5,
                          0.75
                        ],
                        "passed_time": 0.5350133703,
                        "iteration": 328,
                        "remaining_time": 0.2780768581,
                        "learn": [
                          0.001940350268,
                          1
                        ]
                      },
                      {
                        "test": [
                          0.5348806883,
                          0.5,
                          0.75
                        ],
                        "passed_time": 0.5363212592,
                        "iteration": 329,
                        "remaining_time": 0.2762867093,
                        "learn": [
                          0.001935189613,
                          1
                        ]
                      },
                      {
                        "test": [
                          0.5350792489,
                          0.5,
                          0.75
                        ],
                        "passed_time": 0.5377084005,
                        "iteration": 330,
                        "remaining_time": 0.2745399386,
                        "learn": [
                          0.001930704157,
                          1
                        ]
                      },
                      {
                        "test": [
                          0.5351342871,
                          0.5,
                          0.75
                        ],
                        "passed_time": 0.539039417,
                        "iteration": 331,
                        "remaining_time": 0.2727669339,
                        "learn": [
                          0.00192460472,
                          1
                        ]
                      },
                      {
                        "test": [
                          0.5351614188,
                          0.5,
                          0.75
                        ],
                        "passed_time": 0.5404799889,
                        "iteration": 332,
                        "remaining_time": 0.271051526,
                        "learn": [
                          0.001919769222,
                          1
                        ]
                      },
                      {
                        "test": [
                          0.5353453777,
                          0.5,
                          0.75
                        ],
                        "passed_time": 0.5418420389,
                        "iteration": 333,
                        "remaining_time": 0.2692987379,
                        "learn": [
                          0.001914903227,
                          1
                        ]
                      },
                      {
                        "test": [
                          0.5352497074,
                          0.5,
                          0.75
                        ],
                        "passed_time": 0.5433152612,
                        "iteration": 334,
                        "remaining_time": 0.2676030391,
                        "learn": [
                          0.001911743009,
                          1
                        ]
                      },
                      {
                        "test": [
                          0.53544106,
                          0.5,
                          0.75
                        ],
                        "passed_time": 0.544798769,
                        "iteration": 335,
                        "remaining_time": 0.2659136849,
                        "learn": [
                          0.001906582504,
                          1
                        ]
                      },
                      {
                        "test": [
                          0.5356708508,
                          0.5,
                          0.75
                        ],
                        "passed_time": 0.5462738604,
                        "iteration": 336,
                        "remaining_time": 0.2642214814,
                        "learn": [
                          0.001901655197,
                          1
                        ]
                      },
                      {
                        "test": [
                          0.5357439706,
                          0.5,
                          0.75
                        ],
                        "passed_time": 0.5476908752,
                        "iteration": 337,
                        "remaining_time": 0.2625027272,
                        "learn": [
                          0.00189664183,
                          1
                        ]
                      },
                      {
                        "test": [
                          0.5363895711,
                          0.5,
                          0.75
                        ],
                        "passed_time": 0.5491636729,
                        "iteration": 338,
                        "remaining_time": 0.2608122458,
                        "learn": [
                          0.001888435261,
                          1
                        ]
                      },
                      {
                        "test": [
                          0.5361973444,
                          0.5,
                          0.75
                        ],
                        "passed_time": 0.5505708426,
                        "iteration": 339,
                        "remaining_time": 0.2590921612,
                        "learn": [
                          0.001881064098,
                          1
                        ]
                      },
                      {
                        "test": [
                          0.5364175408,
                          0.5,
                          0.75
                        ],
                        "passed_time": 0.5519522078,
                        "iteration": 340,
                        "remaining_time": 0.2573618799,
                        "learn": [
                          0.001876595403,
                          1
                        ]
                      },
                      {
                        "test": [
                          0.5365265706,
                          0.5,
                          0.75
                        ],
                        "passed_time": 0.5533406468,
                        "iteration": 341,
                        "remaining_time": 0.255636907,
                        "learn": [
                          0.001871096483,
                          1
                        ]
                      },
                      {
                        "test": [
                          0.5366084864,
                          0.5,
                          0.75
                        ],
                        "passed_time": 0.5546746143,
                        "iteration": 342,
                        "remaining_time": 0.2538889634,
                        "learn": [
                          0.001867001655,
                          1
                        ]
                      },
                      {
                        "test": [
                          0.5367558923,
                          0.5,
                          0.75
                        ],
                        "passed_time": 0.5560775034,
                        "iteration": 343,
                        "remaining_time": 0.2521746818,
                        "learn": [
                          0.001861498269,
                          1
                        ]
                      },
                      {
                        "test": [
                          0.5371080894,
                          0.5,
                          0.75
                        ],
                        "passed_time": 0.5574400635,
                        "iteration": 344,
                        "remaining_time": 0.2504440865,
                        "learn": [
                          0.001854851217,
                          1
                        ]
                      },
                      {
                        "test": [
                          0.5375289322,
                          0.5,
                          0.75
                        ],
                        "passed_time": 0.558831568,
                        "iteration": 345,
                        "remaining_time": 0.2487285014,
                        "learn": [
                          0.001847832052,
                          1
                        ]
                      },
                      {
                        "test": [
                          0.5373457269,
                          0.5,
                          0.75
                        ],
                        "passed_time": 0.5603017407,
                        "iteration": 346,
                        "remaining_time": 0.2470494707,
                        "learn": [
                          0.001843176989,
                          1
                        ]
                      },
                      {
                        "test": [
                          0.5374262928,
                          0.5,
                          0.75
                        ],
                        "passed_time": 0.5616524206,
                        "iteration": 347,
                        "remaining_time": 0.2453194481,
                        "learn": [
                          0.001839241042,
                          1
                        ]
                      },
                      {
                        "test": [
                          0.5375251226,
                          0.5,
                          0.75
                        ],
                        "passed_time": 0.5652653215,
                        "iteration": 348,
                        "remaining_time": 0.2445703827,
                        "learn": [
                          0.001832697636,
                          1
                        ]
                      },
                      {
                        "test": [
                          0.5377987742,
                          0.5,
                          0.75
                        ],
                        "passed_time": 0.5669166313,
                        "iteration": 349,
                        "remaining_time": 0.2429642706,
                        "learn": [
                          0.001829133982,
                          1
                        ]
                      },
                      {
                        "test": [
                          0.5379167693,
                          0.5,
                          0.75
                        ],
                        "passed_time": 0.5683805467,
                        "iteration": 350,
                        "remaining_time": 0.2412783517,
                        "learn": [
                          0.001825142561,
                          1
                        ]
                      },
                      {
                        "test": [
                          0.5378943543,
                          0.5,
                          0.75
                        ],
                        "passed_time": 0.5697867563,
                        "iteration": 351,
                        "remaining_time": 0.2395694316,
                        "learn": [
                          0.001818489349,
                          1
                        ]
                      },
                      {
                        "test": [
                          0.537921788,
                          0.5,
                          0.75
                        ],
                        "passed_time": 0.5712124071,
                        "iteration": 352,
                        "remaining_time": 0.2378703225,
                        "learn": [
                          0.001813218843,
                          1
                        ]
                      },
                      {
                        "test": [
                          0.5381368413,
                          0.5,
                          0.75
                        ],
                        "passed_time": 0.5725859782,
                        "iteration": 353,
                        "remaining_time": 0.2361512792,
                        "learn": [
                          0.001806473751,
                          1
                        ]
                      },
                      {
                        "test": [
                          0.538239549,
                          0.5,
                          0.75
                        ],
                        "passed_time": 0.57394157,
                        "iteration": 354,
                        "remaining_time": 0.2344268385,
                        "learn": [
                          0.001801672505,
                          1
                        ]
                      },
                      {
                        "test": [
                          0.5382517758,
                          0.5,
                          0.75
                        ],
                        "passed_time": 0.575316467,
                        "iteration": 355,
                        "remaining_time": 0.2327122788,
                        "learn": [
                          0.001797562048,
                          1
                        ]
                      },
                      {
                        "test": [
                          0.538870332,
                          0.5,
                          0.75
                        ],
                        "passed_time": 0.5766770053,
                        "iteration": 356,
                        "remaining_time": 0.2309938705,
                        "learn": [
                          0.00179145821,
                          1
                        ]
                      },
                      {
                        "test": [
                          0.5388265082,
                          0.5,
                          0.75
                        ],
                        "passed_time": 0.5780107745,
                        "iteration": 357,
                        "remaining_time": 0.2292668435,
                        "learn": [
                          0.001787289762,
                          1
                        ]
                      },
                      {
                        "test": [
                          0.5387277148,
                          0.5,
                          0.75
                        ],
                        "passed_time": 0.579390428,
                        "iteration": 358,
                        "remaining_time": 0.2275600288,
                        "learn": [
                          0.001781566121,
                          1
                        ]
                      },
                      {
                        "test": [
                          0.5388417385,
                          0.5,
                          0.75
                        ],
                        "passed_time": 0.5807138221,
                        "iteration": 359,
                        "remaining_time": 0.225833153,
                        "learn": [
                          0.001777734567,
                          1
                        ]
                      },
                      {
                        "test": [
                          0.5389278434,
                          0.5,
                          0.75
                        ],
                        "passed_time": 0.5820454536,
                        "iteration": 360,
                        "remaining_time": 0.2241116844,
                        "learn": [
                          0.001774302804,
                          1
                        ]
                      },
                      {
                        "test": [
                          0.5392144177,
                          0.5,
                          0.75
                        ],
                        "passed_time": 0.5833551817,
                        "iteration": 361,
                        "remaining_time": 0.2223840195,
                        "learn": [
                          0.001769958134,
                          1
                        ]
                      },
                      {
                        "test": [
                          0.5392752735,
                          0.5,
                          0.75
                        ],
                        "passed_time": 0.5846828813,
                        "iteration": 362,
                        "remaining_time": 0.2206654401,
                        "learn": [
                          0.001766012418,
                          1
                        ]
                      },
                      {
                        "test": [
                          0.5390601176,
                          0.5,
                          0.75
                        ],
                        "passed_time": 0.5864872956,
                        "iteration": 363,
                        "remaining_time": 0.2191271215,
                        "learn": [
                          0.001761692348,
                          1
                        ]
                      },
                      {
                        "test": [
                          0.5390727464,
                          0.5,
                          0.75
                        ],
                        "passed_time": 0.5880796266,
                        "iteration": 364,
                        "remaining_time": 0.217508903,
                        "learn": [
                          0.001758018718,
                          1
                        ]
                      },
                      {
                        "test": [
                          0.5399144376,
                          0.5,
                          0.75
                        ],
                        "passed_time": 0.5896122777,
                        "iteration": 365,
                        "remaining_time": 0.215868976,
                        "learn": [
                          0.001750208833,
                          1
                        ]
                      },
                      {
                        "test": [
                          0.5404928946,
                          0.5,
                          0.75
                        ],
                        "passed_time": 0.5911502657,
                        "iteration": 366,
                        "remaining_time": 0.2142315677,
                        "learn": [
                          0.001744451238,
                          1
                        ]
                      },
                      {
                        "test": [
                          0.5407094562,
                          0.5,
                          0.75
                        ],
                        "passed_time": 0.5927112354,
                        "iteration": 367,
                        "remaining_time": 0.2126029431,
                        "learn": [
                          0.00174092937,
                          1
                        ]
                      },
                      {
                        "test": [
                          0.5422591632,
                          0.5,
                          0.75
                        ],
                        "passed_time": 0.5933536852,
                        "iteration": 368,
                        "remaining_time": 0.2106485983,
                        "learn": [
                          0.001729279907,
                          1
                        ]
                      },
                      {
                        "test": [
                          0.5424097074,
                          0.5,
                          0.75
                        ],
                        "passed_time": 0.5948996488,
                        "iteration": 369,
                        "remaining_time": 0.2090187955,
                        "learn": [
                          0.001724935677,
                          1
                        ]
                      },
                      {
                        "test": [
                          0.5426067253,
                          0.5,
                          0.75
                        ],
                        "passed_time": 0.5965065467,
                        "iteration": 370,
                        "remaining_time": 0.2074106321,
                        "learn": [
                          0.001721144361,
                          1
                        ]
                      },
                      {
                        "test": [
                          0.5429777659,
                          0.5,
                          0.75
                        ],
                        "passed_time": 0.5980800924,
                        "iteration": 371,
                        "remaining_time": 0.2057909995,
                        "learn": [
                          0.001717210706,
                          1
                        ]
                      },
                      {
                        "test": [
                          0.5428316279,
                          0.5,
                          0.75
                        ],
                        "passed_time": 0.5994345851,
                        "iteration": 372,
                        "remaining_time": 0.2040970303,
                        "learn": [
                          0.001711382051,
                          1
                        ]
                      },
                      {
                        "test": [
                          0.5425400012,
                          0.5,
                          0.75
                        ],
                        "passed_time": 0.6009854782,
                        "iteration": 373,
                        "remaining_time": 0.2024710435,
                        "learn": [
                          0.001705497242,
                          1
                        ]
                      },
                      {
                        "test": [
                          0.5425971905,
                          0.5,
                          0.75
                        ],
                        "passed_time": 0.6023264558,
                        "iteration": 374,
                        "remaining_time": 0.2007754853,
                        "learn": [
                          0.00170146368,
                          1
                        ]
                      },
                      {
                        "test": [
                          0.5429418668,
                          0.5,
                          0.75
                        ],
                        "passed_time": 0.603674732,
                        "iteration": 375,
                        "remaining_time": 0.1990842201,
                        "learn": [
                          0.001696128445,
                          1
                        ]
                      },
                      {
                        "test": [
                          0.5429749073,
                          0.5,
                          0.75
                        ],
                        "passed_time": 0.6050106895,
                        "iteration": 376,
                        "remaining_time": 0.1973907555,
                        "learn": [
                          0.001691733718,
                          1
                        ]
                      },
                      {
                        "test": [
                          0.5433948097,
                          0.5,
                          0.75
                        ],
                        "passed_time": 0.6063268481,
                        "iteration": 377,
                        "remaining_time": 0.1956927922,
                        "learn": [
                          0.001687435268,
                          1
                        ]
                      },
                      {
                        "test": [
                          0.5434352281,
                          0.5,
                          0.75
                        ],
                        "passed_time": 0.6076505568,
                        "iteration": 378,
                        "remaining_time": 0.1939992543,
                        "learn": [
                          0.00168311708,
                          1
                        ]
                      },
                      {
                        "test": [
                          0.5436831908,
                          0.5,
                          0.75
                        ],
                        "passed_time": 0.6089581103,
                        "iteration": 379,
                        "remaining_time": 0.1923025611,
                        "learn": [
                          0.001679258837,
                          1
                        ]
                      },
                      {
                        "test": [
                          0.5440089006,
                          0.5,
                          0.75
                        ],
                        "passed_time": 0.6102885418,
                        "iteration": 380,
                        "remaining_time": 0.1906150564,
                        "learn": [
                          0.001674560819,
                          1
                        ]
                      },
                      {
                        "test": [
                          0.5437940064,
                          0.5,
                          0.75
                        ],
                        "passed_time": 0.6117815779,
                        "iteration": 381,
                        "remaining_time": 0.1889796497,
                        "learn": [
                          0.001670019767,
                          1
                        ]
                      },
                      {
                        "test": [
                          0.5441161668,
                          0.5,
                          0.75
                        ],
                        "passed_time": 0.6131162767,
                        "iteration": 382,
                        "remaining_time": 0.1872966172,
                        "learn": [
                          0.001666334699,
                          1
                        ]
                      },
                      {
                        "test": [
                          0.5443650448,
                          0.5,
                          0.75
                        ],
                        "passed_time": 0.614460557,
                        "iteration": 383,
                        "remaining_time": 0.1856182933,
                        "learn": [
                          0.001662350509,
                          1
                        ]
                      },
                      {
                        "test": [
                          0.5444233516,
                          0.5,
                          0.75
                        ],
                        "passed_time": 0.615774067,
                        "iteration": 384,
                        "remaining_time": 0.1839325135,
                        "learn": [
                          0.001656275541,
                          1
                        ]
                      },
                      {
                        "test": [
                          0.5445253936,
                          0.5,
                          0.75
                        ],
                        "passed_time": 0.6172227803,
                        "iteration": 385,
                        "remaining_time": 0.1822885931,
                        "learn": [
                          0.00165203945,
                          1
                        ]
                      },
                      {
                        "test": [
                          0.5448938373,
                          0.5,
                          0.75
                        ],
                        "passed_time": 0.6187275893,
                        "iteration": 386,
                        "remaining_time": 0.180662061,
                        "learn": [
                          0.00164795562,
                          1
                        ]
                      },
                      {
                        "test": [
                          0.5452735342,
                          0.5,
                          0.75
                        ],
                        "passed_time": 0.6201268489,
                        "iteration": 387,
                        "remaining_time": 0.1790056883,
                        "learn": [
                          0.001644095471,
                          1
                        ]
                      },
                      {
                        "test": [
                          0.5455502695,
                          0.5,
                          0.75
                        ],
                        "passed_time": 0.6214661359,
                        "iteration": 388,
                        "remaining_time": 0.1773335246,
                        "learn": [
                          0.00163993821,
                          1
                        ]
                      },
                      {
                        "test": [
                          0.5460558309,
                          0.5,
                          0.75
                        ],
                        "passed_time": 0.6228180077,
                        "iteration": 389,
                        "remaining_time": 0.1756666176,
                        "learn": [
                          0.001635881213,
                          1
                        ]
                      },
                      {
                        "test": [
                          0.5460990677,
                          0.5,
                          0.75
                        ],
                        "passed_time": 0.6242556209,
                        "iteration": 390,
                        "remaining_time": 0.1740252242,
                        "learn": [
                          0.001632987823,
                          1
                        ]
                      },
                      {
                        "test": [
                          0.5459034252,
                          0.5,
                          0.75
                        ],
                        "passed_time": 0.6256150291,
                        "iteration": 391,
                        "remaining_time": 0.1723633243,
                        "learn": [
                          0.001629109655,
                          1
                        ]
                      },
                      {
                        "test": [
                          0.5455077828,
                          0.5,
                          0.75
                        ],
                        "passed_time": 0.6269661726,
                        "iteration": 392,
                        "remaining_time": 0.1707007137,
                        "learn": [
                          0.001624371778,
                          1
                        ]
                      },
                      {
                        "test": [
                          0.5452324418,
                          0.5,
                          0.75
                        ],
                        "passed_time": 0.6283211012,
                        "iteration": 393,
                        "remaining_time": 0.1690407024,
                        "learn": [
                          0.001619407016,
                          1
                        ]
                      },
                      {
                        "test": [
                          0.5455214285,
                          0.5,
                          0.75
                        ],
                        "passed_time": 0.6296524768,
                        "iteration": 394,
                        "remaining_time": 0.1673759749,
                        "learn": [
                          0.001615931157,
                          1
                        ]
                      },
                      {
                        "test": [
                          0.5455136853,
                          0.5,
                          0.75
                        ],
                        "passed_time": 0.6309605399,
                        "iteration": 395,
                        "remaining_time": 0.1657068085,
                        "learn": [
                          0.001611318885,
                          1
                        ]
                      },
                      {
                        "test": [
                          0.5455782992,
                          0.5,
                          0.75
                        ],
                        "passed_time": 0.6322773771,
                        "iteration": 396,
                        "remaining_time": 0.1640417376,
                        "learn": [
                          0.001608221978,
                          1
                        ]
                      },
                      {
                        "test": [
                          0.545899044,
                          0.5,
                          0.75
                        ],
                        "passed_time": 0.6335871093,
                        "iteration": 397,
                        "remaining_time": 0.1623765959,
                        "learn": [
                          0.001603600074,
                          1
                        ]
                      },
                      {
                        "test": [
                          0.5457746233,
                          0.5,
                          0.75
                        ],
                        "passed_time": 0.6348822195,
                        "iteration": 398,
                        "remaining_time": 0.1607095343,
                        "learn": [
                          0.001600416815,
                          1
                        ]
                      },
                      {
                        "test": [
                          0.5462888721,
                          0.5,
                          0.75
                        ],
                        "passed_time": 0.6362067164,
                        "iteration": 399,
                        "remaining_time": 0.1590516791,
                        "learn": [
                          0.00159625546,
                          1
                        ]
                      },
                      {
                        "test": [
                          0.5462602112,
                          0.5,
                          0.75
                        ],
                        "passed_time": 0.6375480889,
                        "iteration": 400,
                        "remaining_time": 0.1573996529,
                        "learn": [
                          0.00159226997,
                          1
                        ]
                      },
                      {
                        "test": [
                          0.5467622329,
                          0.5,
                          0.75
                        ],
                        "passed_time": 0.6388746331,
                        "iteration": 401,
                        "remaining_time": 0.1557455573,
                        "learn": [
                          0.001586182078,
                          1
                        ]
                      },
                      {
                        "test": [
                          0.5467925998,
                          0.5,
                          0.75
                        ],
                        "passed_time": 0.6401960054,
                        "iteration": 402,
                        "remaining_time": 0.1540918425,
                        "learn": [
                          0.001582407319,
                          1
                        ]
                      },
                      {
                        "test": [
                          0.5468654697,
                          0.5,
                          0.75
                        ],
                        "passed_time": 0.6415072994,
                        "iteration": 403,
                        "remaining_time": 0.1524373781,
                        "learn": [
                          0.001579566245,
                          1
                        ]
                      },
                      {
                        "test": [
                          0.5469487322,
                          0.5,
                          0.75
                        ],
                        "passed_time": 0.64279953,
                        "iteration": 404,
                        "remaining_time": 0.1507801367,
                        "learn": [
                          0.00157569478,
                          1
                        ]
                      },
                      {
                        "test": [
                          0.5471230634,
                          0.5,
                          0.75
                        ],
                        "passed_time": 0.6441107299,
                        "iteration": 405,
                        "remaining_time": 0.1491290852,
                        "learn": [
                          0.001570939885,
                          1
                        ]
                      },
                      {
                        "test": [
                          0.547812791,
                          0.5,
                          0.75
                        ],
                        "passed_time": 0.645550879,
                        "iteration": 406,
                        "remaining_time": 0.1475091689,
                        "learn": [
                          0.001565531936,
                          1
                        ]
                      },
                      {
                        "test": [
                          0.5478095619,
                          0.5,
                          0.75
                        ],
                        "passed_time": 0.6471793322,
                        "iteration": 407,
                        "remaining_time": 0.1459325945,
                        "learn": [
                          0.001561470776,
                          1
                        ]
                      },
                      {
                        "test": [
                          0.5480310667,
                          0.5,
                          0.75
                        ],
                        "passed_time": 0.6486612259,
                        "iteration": 408,
                        "remaining_time": 0.1443231578,
                        "learn": [
                          0.001556743672,
                          1
                        ]
                      },
                      {
                        "test": [
                          0.548550757,
                          0.5,
                          0.75
                        ],
                        "passed_time": 0.6500092231,
                        "iteration": 409,
                        "remaining_time": 0.1426849514,
                        "learn": [
                          0.001552614857,
                          1
                        ]
                      },
                      {
                        "test": [
                          0.5485386985,
                          0.5,
                          0.75
                        ],
                        "passed_time": 0.6513894279,
                        "iteration": 410,
                        "remaining_time": 0.1410551316,
                        "learn": [
                          0.001549036408,
                          1
                        ]
                      },
                      {
                        "test": [
                          0.5488113938,
                          0.5,
                          0.75
                        ],
                        "passed_time": 0.6528887932,
                        "iteration": 411,
                        "remaining_time": 0.1394519752,
                        "learn": [
                          0.001545055287,
                          1
                        ]
                      },
                      {
                        "test": [
                          0.5492155286,
                          0.5,
                          0.75
                        ],
                        "passed_time": 0.6542442918,
                        "iteration": 412,
                        "remaining_time": 0.1378190155,
                        "learn": [
                          0.001541764405,
                          1
                        ]
                      },
                      {
                        "test": [
                          0.5493878947,
                          0.5,
                          0.75
                        ],
                        "passed_time": 0.6555792802,
                        "iteration": 413,
                        "remaining_time": 0.1361831355,
                        "learn": [
                          0.001538859054,
                          1
                        ]
                      },
                      {
                        "test": [
                          0.5495557175,
                          0.5,
                          0.75
                        ],
                        "passed_time": 0.6576143349,
                        "iteration": 414,
                        "remaining_time": 0.1346920927,
                        "learn": [
                          0.001535861317,
                          1
                        ]
                      },
                      {
                        "test": [
                          0.5495505262,
                          0.5,
                          0.75
                        ],
                        "passed_time": 0.6591817751,
                        "iteration": 415,
                        "remaining_time": 0.1331040123,
                        "learn": [
                          0.001533054761,
                          1
                        ]
                      },
                      {
                        "test": [
                          0.5496696286,
                          0.5,
                          0.75
                        ],
                        "passed_time": 0.6607153826,
                        "iteration": 416,
                        "remaining_time": 0.1315092968,
                        "learn": [
                          0.001527795445,
                          1
                        ]
                      },
                      {
                        "test": [
                          0.5497519567,
                          0.5,
                          0.75
                        ],
                        "passed_time": 0.6622230412,
                        "iteration": 417,
                        "remaining_time": 0.1299097832,
                        "learn": [
                          0.001524336302,
                          1
                        ]
                      },
                      {
                        "test": [
                          0.5499356402,
                          0.5,
                          0.75
                        ],
                        "passed_time": 0.6637016162,
                        "iteration": 418,
                        "remaining_time": 0.1283050857,
                        "learn": [
                          0.001520760307,
                          1
                        ]
                      },
                      {
                        "test": [
                          0.5501730384,
                          0.5,
                          0.75
                        ],
                        "passed_time": 0.6652209359,
                        "iteration": 419,
                        "remaining_time": 0.1267087497,
                        "learn": [
                          0.001516873453,
                          1
                        ]
                      },
                      {
                        "test": [
                          0.5502770445,
                          0.5,
                          0.75
                        ],
                        "passed_time": 0.6671691173,
                        "iteration": 420,
                        "remaining_time": 0.1251932548,
                        "learn": [
                          0.00151422689,
                          1
                        ]
                      },
                      {
                        "test": [
                          0.5503740719,
                          0.5,
                          0.75
                        ],
                        "passed_time": 0.6685937926,
                        "iteration": 421,
                        "remaining_time": 0.1235789475,
                        "learn": [
                          0.001511752027,
                          1
                        ]
                      },
                      {
                        "test": [
                          0.5504389605,
                          0.5,
                          0.75
                        ],
                        "passed_time": 0.6699350397,
                        "iteration": 422,
                        "remaining_time": 0.12195035,
                        "learn": [
                          0.001509122514,
                          1
                        ]
                      },
                      {
                        "test": [
                          0.5507629759,
                          0.5,
                          0.75
                        ],
                        "passed_time": 0.6713016285,
                        "iteration": 423,
                        "remaining_time": 0.1203276504,
                        "learn": [
                          0.001505614768,
                          1
                        ]
                      },
                      {
                        "test": [
                          0.5510689373,
                          0.5,
                          0.75
                        ],
                        "passed_time": 0.6726512115,
                        "iteration": 424,
                        "remaining_time": 0.118703155,
                        "learn": [
                          0.001502791858,
                          1
                        ]
                      },
                      {
                        "test": [
                          0.5513259914,
                          0.5,
                          0.75
                        ],
                        "passed_time": 0.6739858567,
                        "iteration": 425,
                        "remaining_time": 0.1170773554,
                        "learn": [
                          0.001497939586,
                          1
                        ]
                      },
                      {
                        "test": [
                          0.5516065456,
                          0.5,
                          0.75
                        ],
                        "passed_time": 0.6753515373,
                        "iteration": 426,
                        "remaining_time": 0.1154582253,
                        "learn": [
                          0.001494740366,
                          1
                        ]
                      },
                      {
                        "test": [
                          0.5520530709,
                          0.5,
                          0.75
                        ],
                        "passed_time": 0.6766912512,
                        "iteration": 427,
                        "remaining_time": 0.1138359114,
                        "learn": [
                          0.00149145197,
                          1
                        ]
                      },
                      {
                        "test": [
                          0.5521671604,
                          0.5,
                          0.75
                        ],
                        "passed_time": 0.6780329519,
                        "iteration": 428,
                        "remaining_time": 0.1122152438,
                        "learn": [
                          0.001488768062,
                          1
                        ]
                      },
                      {
                        "test": [
                          0.5524554657,
                          0.5,
                          0.75
                        ],
                        "passed_time": 0.6793733826,
                        "iteration": 429,
                        "remaining_time": 0.1105956669,
                        "learn": [
                          0.001485517637,
                          1
                        ]
                      },
                      {
                        "test": [
                          0.5528304838,
                          0.5,
                          0.75
                        ],
                        "passed_time": 0.6804265345,
                        "iteration": 430,
                        "remaining_time": 0.1089313941,
                        "learn": [
                          0.001481434165,
                          1
                        ]
                      },
                      {
                        "test": [
                          0.5530565548,
                          0.5,
                          0.75
                        ],
                        "passed_time": 0.6818566362,
                        "iteration": 431,
                        "remaining_time": 0.1073292853,
                        "learn": [
                          0.001477895478,
                          1
                        ]
                      },
                      {
                        "test": [
                          0.5531511615,
                          0.5,
                          0.75
                        ],
                        "passed_time": 0.6832667682,
                        "iteration": 432,
                        "remaining_time": 0.105724881,
                        "learn": [
                          0.001474824887,
                          1
                        ]
                      },
                      {
                        "test": [
                          0.5530458253,
                          0.5,
                          0.75
                        ],
                        "passed_time": 0.6847077301,
                        "iteration": 433,
                        "remaining_time": 0.1041260603,
                        "learn": [
                          0.00147238738,
                          1
                        ]
                      },
                      {
                        "test": [
                          0.5532840793,
                          0.5,
                          0.75
                        ],
                        "passed_time": 0.6861126647,
                        "iteration": 434,
                        "remaining_time": 0.1025225821,
                        "learn": [
                          0.001469277105,
                          1
                        ]
                      },
                      {
                        "test": [
                          0.553361937,
                          0.5,
                          0.75
                        ],
                        "passed_time": 0.6875384078,
                        "iteration": 435,
                        "remaining_time": 0.100923069,
                        "learn": [
                          0.001466137001,
                          1
                        ]
                      },
                      {
                        "test": [
                          0.5534582008,
                          0.5,
                          0.75
                        ],
                        "passed_time": 0.688946727,
                        "iteration": 436,
                        "remaining_time": 0.09932183936,
                        "learn": [
                          0.001462517959,
                          1
                        ]
                      },
                      {
                        "test": [
                          0.5535978518,
                          0.5,
                          0.75
                        ],
                        "passed_time": 0.6903671396,
                        "iteration": 437,
                        "remaining_time": 0.0977232024,
                        "learn": [
                          0.001458726641,
                          1
                        ]
                      },
                      {
                        "test": [
                          0.5536299326,
                          0.5,
                          0.75
                        ],
                        "passed_time": 0.6918209002,
                        "iteration": 438,
                        "remaining_time": 0.09613001119,
                        "learn": [
                          0.001454949767,
                          1
                        ]
                      },
                      {
                        "test": [
                          0.5535052965,
                          0.5,
                          0.75
                        ],
                        "passed_time": 0.6932244599,
                        "iteration": 439,
                        "remaining_time": 0.09453060816,
                        "learn": [
                          0.001451664304,
                          1
                        ]
                      },
                      {
                        "test": [
                          0.5537849385,
                          0.5,
                          0.75
                        ],
                        "passed_time": 0.6946292559,
                        "iteration": 440,
                        "remaining_time": 0.09293225872,
                        "learn": [
                          0.001447984943,
                          1
                        ]
                      },
                      {
                        "test": [
                          0.5537993103,
                          0.5,
                          0.75
                        ],
                        "passed_time": 0.696037451,
                        "iteration": 441,
                        "remaining_time": 0.09133523113,
                        "learn": [
                          0.00144544137,
                          1
                        ]
                      },
                      {
                        "test": [
                          0.5544616255,
                          0.5,
                          0.75
                        ],
                        "passed_time": 0.6974403679,
                        "iteration": 442,
                        "remaining_time": 0.08973837691,
                        "learn": [
                          0.001442236624,
                          1
                        ]
                      },
                      {
                        "test": [
                          0.5555622749,
                          0.5,
                          0.75
                        ],
                        "passed_time": 0.6980627084,
                        "iteration": 443,
                        "remaining_time": 0.0880439452,
                        "learn": [
                          0.001435620152,
                          1
                        ]
                      },
                      {
                        "test": [
                          0.5556710857,
                          0.5,
                          0.75
                        ],
                        "passed_time": 0.6994657544,
                        "iteration": 444,
                        "remaining_time": 0.08645082357,
                        "learn": [
                          0.00143232044,
                          1
                        ]
                      },
                      {
                        "test": [
                          0.555598483,
                          0.5,
                          0.75
                        ],
                        "passed_time": 0.7009056121,
                        "iteration": 445,
                        "remaining_time": 0.08486301133,
                        "learn": [
                          0.001429805253,
                          1
                        ]
                      },
                      {
                        "test": [
                          0.5555548023,
                          0.5,
                          0.75
                        ],
                        "passed_time": 0.702249022,
                        "iteration": 446,
                        "remaining_time": 0.08326442542,
                        "learn": [
                          0.001425975769,
                          1
                        ]
                      },
                      {
                        "test": [
                          0.5558497775,
                          0.5,
                          0.75
                        ],
                        "passed_time": 0.7037092463,
                        "iteration": 447,
                        "remaining_time": 0.08168053752,
                        "learn": [
                          0.001422420927,
                          1
                        ]
                      },
                      {
                        "test": [
                          0.5565008016,
                          0.5,
                          0.75
                        ],
                        "passed_time": 0.705079636,
                        "iteration": 448,
                        "remaining_time": 0.08008699652,
                        "learn": [
                          0.001418630197,
                          1
                        ]
                      },
                      {
                        "test": [
                          0.556734534,
                          0.5,
                          0.75
                        ],
                        "passed_time": 0.7064696378,
                        "iteration": 449,
                        "remaining_time": 0.07849662642,
                        "learn": [
                          0.001415755527,
                          1
                        ]
                      },
                      {
                        "test": [
                          0.5571112285,
                          0.5,
                          0.75
                        ],
                        "passed_time": 0.7078580977,
                        "iteration": 450,
                        "remaining_time": 0.07690697735,
                        "learn": [
                          0.00141288573,
                          1
                        ]
                      },
                      {
                        "test": [
                          0.5569648948,
                          0.5,
                          0.75
                        ],
                        "passed_time": 0.7094597301,
                        "iteration": 451,
                        "remaining_time": 0.07534085629,
                        "learn": [
                          0.001409651478,
                          1
                        ]
                      },
                      {
                        "test": [
                          0.5569051881,
                          0.5,
                          0.75
                        ],
                        "passed_time": 0.7110885183,
                        "iteration": 452,
                        "remaining_time": 0.07377739593,
                        "learn": [
                          0.001405856105,
                          1
                        ]
                      },
                      {
                        "test": [
                          0.5570825049,
                          0.5,
                          0.75
                        ],
                        "passed_time": 0.7126968862,
                        "iteration": 453,
                        "remaining_time": 0.07221157878,
                        "learn": [
                          0.001402968567,
                          1
                        ]
                      },
                      {
                        "test": [
                          0.5572823752,
                          0.5,
                          0.75
                        ],
                        "passed_time": 0.7141760922,
                        "iteration": 454,
                        "remaining_time": 0.07063280032,
                        "learn": [
                          0.00140049166,
                          1
                        ]
                      },
                      {
                        "test": [
                          0.5574093704,
                          0.5,
                          0.75
                        ],
                        "passed_time": 0.7156237796,
                        "iteration": 455,
                        "remaining_time": 0.06905141733,
                        "learn": [
                          0.001397134535,
                          1
                        ]
                      },
                      {
                        "test": [
                          0.5584761491,
                          0.5,
                          0.75
                        ],
                        "passed_time": 0.7162667267,
                        "iteration": 456,
                        "remaining_time": 0.06739489988,
                        "learn": [
                          0.001390930125,
                          1
                        ]
                      },
                      {
                        "test": [
                          0.5585692192,
                          0.5,
                          0.75
                        ],
                        "passed_time": 0.7176787246,
                        "iteration": 457,
                        "remaining_time": 0.06581333282,
                        "learn": [
                          0.001387608354,
                          1
                        ]
                      },
                      {
                        "test": [
                          0.5586183328,
                          0.5,
                          0.75
                        ],
                        "passed_time": 0.7196832358,
                        "iteration": 458,
                        "remaining_time": 0.06428543065,
                        "learn": [
                          0.001384520182,
                          1
                        ]
                      },
                      {
                        "test": [
                          0.5586823914,
                          0.5,
                          0.75
                        ],
                        "passed_time": 0.7211520175,
                        "iteration": 459,
                        "remaining_time": 0.06270887109,
                        "learn": [
                          0.001381658258,
                          1
                        ]
                      },
                      {
                        "test": [
                          0.5589504467,
                          0.5,
                          0.75
                        ],
                        "passed_time": 0.7226064146,
                        "iteration": 460,
                        "remaining_time": 0.06113156219,
                        "learn": [
                          0.001379199935,
                          1
                        ]
                      },
                      {
                        "test": [
                          0.5594329143,
                          0.5,
                          0.75
                        ],
                        "passed_time": 0.7240603357,
                        "iteration": 461,
                        "remaining_time": 0.05955474623,
                        "learn": [
                          0.001376310685,
                          1
                        ]
                      },
                      {
                        "test": [
                          0.5596028831,
                          0.5,
                          0.75
                        ],
                        "passed_time": 0.7254782964,
                        "iteration": 462,
                        "remaining_time": 0.0579755874,
                        "learn": [
                          0.001373642224,
                          1
                        ]
                      },
                      {
                        "test": [
                          0.559696912,
                          0.5,
                          0.75
                        ],
                        "passed_time": 0.7269163483,
                        "iteration": 463,
                        "remaining_time": 0.05639868219,
                        "learn": [
                          0.001369896071,
                          1
                        ]
                      },
                      {
                        "test": [
                          0.5598668407,
                          0.5,
                          0.75
                        ],
                        "passed_time": 0.728318941,
                        "iteration": 464,
                        "remaining_time": 0.05481970524,
                        "learn": [
                          0.001367280242,
                          1
                        ]
                      },
                      {
                        "test": [
                          0.560008897,
                          0.5,
                          0.75
                        ],
                        "passed_time": 0.7298903508,
                        "iteration": 465,
                        "remaining_time": 0.05325380242,
                        "learn": [
                          0.001364798143,
                          1
                        ]
                      },
                      {
                        "test": [
                          0.5601265095,
                          0.5,
                          0.75
                        ],
                        "passed_time": 0.7312783666,
                        "iteration": 466,
                        "remaining_time": 0.0516749167,
                        "learn": [
                          0.001362396809,
                          1
                        ]
                      },
                      {
                        "test": [
                          0.5603127819,
                          0.5,
                          0.75
                        ],
                        "passed_time": 0.7329039293,
                        "iteration": 467,
                        "remaining_time": 0.05011308918,
                        "learn": [
                          0.001359601344,
                          1
                        ]
                      },
                      {
                        "test": [
                          0.5603515815,
                          0.5,
                          0.75
                        ],
                        "passed_time": 0.7343386179,
                        "iteration": 468,
                        "remaining_time": 0.04853837347,
                        "learn": [
                          0.001357187832,
                          1
                        ]
                      },
                      {
                        "test": [
                          0.5605165592,
                          0.5,
                          0.75
                        ],
                        "passed_time": 0.7357885354,
                        "iteration": 469,
                        "remaining_time": 0.04696522566,
                        "learn": [
                          0.001355322449,
                          1
                        ]
                      },
                      {
                        "test": [
                          0.5607832017,
                          0.5,
                          0.75
                        ],
                        "passed_time": 0.7371837126,
                        "iteration": 470,
                        "remaining_time": 0.04538923071,
                        "learn": [
                          0.001352494946,
                          1
                        ]
                      },
                      {
                        "test": [
                          0.5609166681,
                          0.5,
                          0.75
                        ],
                        "passed_time": 0.7386075598,
                        "iteration": 471,
                        "remaining_time": 0.0438157027,
                        "learn": [
                          0.00134933659,
                          1
                        ]
                      },
                      {
                        "test": [
                          0.5611939009,
                          0.5,
                          0.75
                        ],
                        "passed_time": 0.7400207045,
                        "iteration": 472,
                        "remaining_time": 0.04224219666,
                        "learn": [
                          0.001346075213,
                          1
                        ]
                      },
                      {
                        "test": [
                          0.5611326452,
                          0.5,
                          0.75
                        ],
                        "passed_time": 0.7414369493,
                        "iteration": 473,
                        "remaining_time": 0.0406695373,
                        "learn": [
                          0.001341979078,
                          1
                        ]
                      },
                      {
                        "test": [
                          0.561164247,
                          0.5,
                          0.75
                        ],
                        "passed_time": 0.7428158332,
                        "iteration": 474,
                        "remaining_time": 0.03909557017,
                        "learn": [
                          0.001339673034,
                          1
                        ]
                      },
                      {
                        "test": [
                          0.5612747531,
                          0.5,
                          0.75
                        ],
                        "passed_time": 0.7443271695,
                        "iteration": 475,
                        "remaining_time": 0.03752910098,
                        "learn": [
                          0.001337645217,
                          1
                        ]
                      },
                      {
                        "test": [
                          0.5613588977,
                          0.5,
                          0.75
                        ],
                        "passed_time": 0.7458177593,
                        "iteration": 476,
                        "remaining_time": 0.03596186261,
                        "learn": [
                          0.001334926105,
                          1
                        ]
                      },
                      {
                        "test": [
                          0.5612566454,
                          0.5,
                          0.75
                        ],
                        "passed_time": 0.7472025087,
                        "iteration": 477,
                        "remaining_time": 0.03439007362,
                        "learn": [
                          0.001332397982,
                          1
                        ]
                      },
                      {
                        "test": [
                          0.5616531063,
                          0.5,
                          0.75
                        ],
                        "passed_time": 0.7486255981,
                        "iteration": 478,
                        "remaining_time": 0.03282074647,
                        "learn": [
                          0.001328981888,
                          1
                        ]
                      },
                      {
                        "test": [
                          0.5617676995,
                          0.5,
                          0.75
                        ],
                        "passed_time": 0.7500166971,
                        "iteration": 479,
                        "remaining_time": 0.03125069571,
                        "learn": [
                          0.001326530246,
                          1
                        ]
                      },
                      {
                        "test": [
                          0.561783211,
                          0.5,
                          0.75
                        ],
                        "passed_time": 0.7514571962,
                        "iteration": 480,
                        "remaining_time": 0.02968334039,
                        "learn": [
                          0.001323270215,
                          1
                        ]
                      },
                      {
                        "test": [
                          0.5623018689,
                          0.5,
                          0.75
                        ],
                        "passed_time": 0.7529010132,
                        "iteration": 481,
                        "remaining_time": 0.02811663535,
                        "learn": [
                          0.001320253721,
                          1
                        ]
                      },
                      {
                        "test": [
                          0.5623461199,
                          0.5,
                          0.75
                        ],
                        "passed_time": 0.7542953468,
                        "iteration": 482,
                        "remaining_time": 0.02654869751,
                        "learn": [
                          0.001317601395,
                          1
                        ]
                      },
                      {
                        "test": [
                          0.5622938307,
                          0.5,
                          0.75
                        ],
                        "passed_time": 0.7557218926,
                        "iteration": 483,
                        "remaining_time": 0.0249825419,
                        "learn": [
                          0.001315093509,
                          1
                        ]
                      },
                      {
                        "test": [
                          0.5623847492,
                          0.5,
                          0.75
                        ],
                        "passed_time": 0.7571224167,
                        "iteration": 484,
                        "remaining_time": 0.02341615722,
                        "learn": [
                          0.001312730948,
                          1
                        ]
                      },
                      {
                        "test": [
                          0.5628366816,
                          0.5,
                          0.75
                        ],
                        "passed_time": 0.7585336541,
                        "iteration": 485,
                        "remaining_time": 0.0218507637,
                        "learn": [
                          0.001310035325,
                          1
                        ]
                      },
                      {
                        "test": [
                          0.562871248,
                          0.5,
                          0.75
                        ],
                        "passed_time": 0.7599501889,
                        "iteration": 486,
                        "remaining_time": 0.02028614467,
                        "learn": [
                          0.001307962944,
                          1
                        ]
                      },
                      {
                        "test": [
                          0.5627959474,
                          0.5,
                          0.75
                        ],
                        "passed_time": 0.761362,
                        "iteration": 487,
                        "remaining_time": 0.01872201639,
                        "learn": [
                          0.00130537279,
                          1
                        ]
                      },
                      {
                        "test": [
                          0.5627961787,
                          0.5,
                          0.75
                        ],
                        "passed_time": 0.762970592,
                        "iteration": 488,
                        "remaining_time": 0.01716293765,
                        "learn": [
                          0.001303076702,
                          1
                        ]
                      },
                      {
                        "test": [
                          0.5628945611,
                          0.5,
                          0.75
                        ],
                        "passed_time": 0.7643990492,
                        "iteration": 489,
                        "remaining_time": 0.0155999806,
                        "learn": [
                          0.00130100694,
                          1
                        ]
                      },
                      {
                        "test": [
                          0.5631285152,
                          0.5,
                          0.75
                        ],
                        "passed_time": 0.7657942256,
                        "iteration": 490,
                        "remaining_time": 0.01403696137,
                        "learn": [
                          0.001298670694,
                          1
                        ]
                      },
                      {
                        "test": [
                          0.5631602617,
                          0.5,
                          0.75
                        ],
                        "passed_time": 0.7672218705,
                        "iteration": 491,
                        "remaining_time": 0.01247515237,
                        "learn": [
                          0.001296622775,
                          1
                        ]
                      },
                      {
                        "test": [
                          0.5633202543,
                          0.5,
                          0.75
                        ],
                        "passed_time": 0.7686483317,
                        "iteration": 492,
                        "remaining_time": 0.01091387084,
                        "learn": [
                          0.001294698435,
                          1
                        ]
                      },
                      {
                        "test": [
                          0.5634320242,
                          0.5,
                          0.75
                        ],
                        "passed_time": 0.77005509,
                        "iteration": 493,
                        "remaining_time": 0.009352895831,
                        "learn": [
                          0.001292052233,
                          1
                        ]
                      },
                      {
                        "test": [
                          0.5636762111,
                          0.5,
                          0.75
                        ],
                        "passed_time": 0.7714650525,
                        "iteration": 494,
                        "remaining_time": 0.007792576288,
                        "learn": [
                          0.001288697622,
                          1
                        ]
                      },
                      {
                        "test": [
                          0.563951622,
                          0.5,
                          0.75
                        ],
                        "passed_time": 0.7728494219,
                        "iteration": 495,
                        "remaining_time": 0.006232656628,
                        "learn": [
                          0.001285962188,
                          1
                        ]
                      },
                      {
                        "test": [
                          0.5639180885,
                          0.5,
                          0.75
                        ],
                        "passed_time": 0.7742583975,
                        "iteration": 496,
                        "remaining_time": 0.004673591936,
                        "learn": [
                          0.001283744522,
                          1
                        ]
                      },
                      {
                        "test": [
                          0.5642651569,
                          0.5,
                          0.75
                        ],
                        "passed_time": 0.7756514943,
                        "iteration": 497,
                        "remaining_time": 0.003115066242,
                        "learn": [
                          0.00128143024,
                          1
                        ]
                      },
                      {
                        "test": [
                          0.5645205817,
                          0.5,
                          0.75
                        ],
                        "passed_time": 0.7770504134,
                        "iteration": 498,
                        "remaining_time": 0.001557215257,
                        "learn": [
                          0.001278512389,
                          1
                        ]
                      },
                      {
                        "test": [
                          0.5643310284,
                          0.5,
                          0.75
                        ],
                        "passed_time": 0.7784516125,
                        "iteration": 499,
                        "remaining_time": 0,
                        "learn": [
                          0.001276117031,
                          1
                        ]
                      }
                    ]
                  },
                  "total_iterations": 500,
                  "passed_iterations": 499
                },
                "path": "catboost_info",
                "name": "catboost_info"
              }
            },
            "_view_module": "catboost-widget",
            "_model_module_version": "^1.0.0",
            "_view_count": null,
            "_view_module_version": "^1.0.0",
            "layout": "IPY_MODEL_5317a85678154753934213cb90f0a3d8",
            "_model_module": "catboost-widget"
          }
        }
      }
    }
  },
  "cells": [
    {
      "cell_type": "markdown",
      "metadata": {
        "id": "view-in-github",
        "colab_type": "text"
      },
      "source": [
        "<a href=\"https://colab.research.google.com/github/Naveen-Nanda/3d-prostate-segmentation/blob/master/Catboost_version1.ipynb\" target=\"_parent\"><img src=\"https://colab.research.google.com/assets/colab-badge.svg\" alt=\"Open In Colab\"/></a>"
      ]
    },
    {
      "cell_type": "code",
      "metadata": {
        "id": "4xTkL1b2fqaE"
      },
      "source": [
        "import pandas as pd\n",
        "import numpy as np\n",
        "import matplotlib.pyplot as plt\n",
        "\n",
        "df = pd.read_excel(\"/content/Data sharing BLA SOW fields_2021.11.29.FINAL.xlsx\",index_col=False)\n",
        "\n",
        "\n",
        "\n",
        "\n",
        "\n"
      ],
      "execution_count": 62,
      "outputs": []
    },
    {
      "cell_type": "code",
      "metadata": {
        "colab": {
          "base_uri": "https://localhost:8080/"
        },
        "id": "W7PhVn9HQfQA",
        "outputId": "1320f4a0-c4de-4e7d-90b5-0dc68c32a88e"
      },
      "source": [
        "df.shape"
      ],
      "execution_count": 63,
      "outputs": [
        {
          "output_type": "execute_result",
          "data": {
            "text/plain": [
              "(75, 32)"
            ]
          },
          "metadata": {},
          "execution_count": 63
        }
      ]
    },
    {
      "cell_type": "code",
      "source": [
        "\n",
        "\n",
        "\n"
      ],
      "metadata": {
        "id": "sLEXdtFi3pq4"
      },
      "execution_count": 63,
      "outputs": []
    },
    {
      "cell_type": "code",
      "metadata": {
        "colab": {
          "base_uri": "https://localhost:8080/"
        },
        "id": "WONO3GgeBa7g",
        "outputId": "4aa034e0-8200-4f03-f7be-80558386d228"
      },
      "source": [
        "df['Past Pregnancy'].value_counts()"
      ],
      "execution_count": 64,
      "outputs": [
        {
          "output_type": "execute_result",
          "data": {
            "text/plain": [
              "P1G0A0       25\n",
              "P2G0M1        9\n",
              "P1G0A0        7\n",
              "P1G0A0M0      5\n",
              "P2G0M1        4\n",
              "P3G1M1        4\n",
              "P3G0A1M1      3\n",
              "P2G1A0        2\n",
              "P3G1M1        2\n",
              "P4G1A1M1      2\n",
              "P2G0A1        1\n",
              "P2G0A0M1      1\n",
              "P6G1M4        1\n",
              "P4G3          1\n",
              "P2G0A1        1\n",
              "P4G0M3        1\n",
              "P1G0M1        1\n",
              "P4G2A1        1\n",
              "P3G2A1        1\n",
              "P4G1A1M2      1\n",
              "P3G0M2        1\n",
              "P5G2A1M2      1\n",
              "Name: Past Pregnancy, dtype: int64"
            ]
          },
          "metadata": {},
          "execution_count": 64
        }
      ]
    },
    {
      "cell_type": "code",
      "metadata": {
        "id": "7AaiOX5pCRRX"
      },
      "source": [
        "def sample(value):\n",
        "  return value[1]"
      ],
      "execution_count": 65,
      "outputs": []
    },
    {
      "cell_type": "code",
      "metadata": {
        "id": "DYRoDZ7oB34_"
      },
      "source": [
        "df['Total_Pregnancy'] = df['Past Pregnancy'].apply(lambda x:sample(x))\n",
        "\n",
        "#res_first = test_str[0:len(test_str)//2]\n",
        "#res_second = test_str[len(test_str)//2 if len(test_str)%2 == 0\n",
        "#                                 else ((len(test_str)//2)+1):]"
      ],
      "execution_count": 66,
      "outputs": []
    },
    {
      "cell_type": "code",
      "metadata": {
        "colab": {
          "base_uri": "https://localhost:8080/"
        },
        "id": "tMjz9IA6Crva",
        "outputId": "469f3fd4-a20f-48be-93ed-1d66d7d08003"
      },
      "source": [
        "df['Total_Pregnancy'].value_counts()"
      ],
      "execution_count": 67,
      "outputs": [
        {
          "output_type": "execute_result",
          "data": {
            "text/plain": [
              "1    38\n",
              "2    18\n",
              "3    11\n",
              "4     6\n",
              "5     1\n",
              "6     1\n",
              "Name: Total_Pregnancy, dtype: int64"
            ]
          },
          "metadata": {},
          "execution_count": 67
        }
      ]
    },
    {
      "cell_type": "code",
      "metadata": {
        "id": "H-Sku6iODsxh"
      },
      "source": [
        "def sample2(value):\n",
        "  try:\n",
        "    if value[4]=='A':\n",
        "      return value[5]\n",
        "    else:\n",
        "      return 0\n",
        "  except:\n",
        "    return 0\n",
        "      \n",
        "  "
      ],
      "execution_count": 68,
      "outputs": []
    },
    {
      "cell_type": "code",
      "metadata": {
        "id": "OKC8Aqe8Dm7X"
      },
      "source": [
        "df['Abortions'] = df['Past Pregnancy'].apply(lambda x:sample2(x))"
      ],
      "execution_count": 69,
      "outputs": []
    },
    {
      "cell_type": "code",
      "metadata": {
        "colab": {
          "base_uri": "https://localhost:8080/"
        },
        "id": "EiuU0Fj0DdoM",
        "outputId": "b7a72458-b421-4feb-892a-5ac3e5662152"
      },
      "source": [
        "df['Abortions'].value_counts()"
      ],
      "execution_count": 70,
      "outputs": [
        {
          "output_type": "execute_result",
          "data": {
            "text/plain": [
              "0    40\n",
              "0    24\n",
              "1    11\n",
              "Name: Abortions, dtype: int64"
            ]
          },
          "metadata": {},
          "execution_count": 70
        }
      ]
    },
    {
      "cell_type": "code",
      "metadata": {
        "id": "AdGTojHEFQgI"
      },
      "source": [
        "def sample3(value):\n",
        "  try:\n",
        "    if value[4]=='M':\n",
        "      return value[5]\n",
        "    elif value[6] == 'M':\n",
        "      return value[7]\n",
        "    else:\n",
        "      return 0\n",
        "  except:\n",
        "    return 0"
      ],
      "execution_count": 71,
      "outputs": []
    },
    {
      "cell_type": "code",
      "metadata": {
        "id": "i0FBeNBiFH5z"
      },
      "source": [
        "df['Miscarriage'] = df['Past Pregnancy'].apply(lambda x:sample3(x))"
      ],
      "execution_count": 72,
      "outputs": []
    },
    {
      "cell_type": "code",
      "metadata": {
        "colab": {
          "base_uri": "https://localhost:8080/"
        },
        "id": "wRRGQXyQFp_b",
        "outputId": "c346dc84-276e-4c84-f10c-3f1199189f74"
      },
      "source": [
        "df['Miscarriage'].value_counts()"
      ],
      "execution_count": 73,
      "outputs": [
        {
          "output_type": "execute_result",
          "data": {
            "text/plain": [
              "0    39\n",
              "1    26\n",
              "0     5\n",
              "2     3\n",
              "4     1\n",
              "3     1\n",
              "Name: Miscarriage, dtype: int64"
            ]
          },
          "metadata": {},
          "execution_count": 73
        }
      ]
    },
    {
      "cell_type": "code",
      "source": [
        "df['Allergies_1'] = df.Allergies.str.split(' ', expand = True)[0]\n",
        "df['Allergies_2'] = df.Allergies.str.split(' ', expand = True)[1]"
      ],
      "metadata": {
        "id": "f-CZBekH4bpA"
      },
      "execution_count": 74,
      "outputs": []
    },
    {
      "cell_type": "code",
      "source": [
        "df[['House Type','No_of_Living']] = df['Living Conditions'].str.split('+',expand = True)"
      ],
      "metadata": {
        "id": "ushekEVj5F89"
      },
      "execution_count": 75,
      "outputs": []
    },
    {
      "cell_type": "code",
      "source": [
        "df['PMH_1'] = df['PMH '].str.split(',', expand = True)[0]\n",
        "df['PMH_2'] = df['PMH '].str.split(',', expand = True)[1]\n",
        "df['PMH_3'] = df['PMH '].str.split(',', expand = True)[2]"
      ],
      "metadata": {
        "id": "V8WQjQQ75yAb"
      },
      "execution_count": 76,
      "outputs": []
    },
    {
      "cell_type": "code",
      "source": [
        "\n",
        "\n",
        "\n",
        "\n",
        "df['Allergies_1'] = df['Allergies_1'].replace(\"Peanut\",\"Peanuts\")\n",
        "df['Allergies_2'] = df['Allergies_2'].replace(\"\",'None')\n",
        "\n",
        "df['PMH_1'] = df['PMH_1'].replace(\"\",'None')\n",
        "df['PMH_2'] = df['PMH_2'].replace(\"HTN,\",'HTN')\n",
        "\n",
        "\n",
        "df['Health_Habits_1'] = df['Health Habits'].str.split('+', expand = True)[0]\n",
        "df['Health_Habits_2'] = df['Health Habits'].str.split('+', expand = True)[1]\n",
        "\n",
        "\n",
        "\n",
        "\n",
        "\n",
        "\n"
      ],
      "metadata": {
        "id": "yKoWdLj-50yh"
      },
      "execution_count": 77,
      "outputs": []
    },
    {
      "cell_type": "code",
      "source": [
        "df['Class_Attended_1'] = df['Class Attended'].str.split('/', expand = True)[0]\n",
        "df['Class_Attended_2'] = df['Class Attended'].str.split('/', expand = True)[1]\n",
        "df['Class_Attended_3'] = df['Class Attended'].str.split('/', expand = True)[2]"
      ],
      "metadata": {
        "id": "oC6AaddU7qsx"
      },
      "execution_count": 78,
      "outputs": []
    },
    {
      "cell_type": "code",
      "source": [
        "df['Medication_1'] = df['Medications'].str.split(',', expand = True)[0]\n",
        "df['Medication_2'] = df['Medications'].str.split(',', expand = True)[1]\n",
        "df['Medication_3'] = df['Medications'].str.split(',', expand = True)[2]"
      ],
      "metadata": {
        "id": "kTGIQsb379yA"
      },
      "execution_count": 79,
      "outputs": []
    },
    {
      "cell_type": "code",
      "metadata": {
        "colab": {
          "base_uri": "https://localhost:8080/"
        },
        "id": "64IjYG2oGMq-",
        "outputId": "e2a00a94-85cd-407c-a492-13acf2ddb8ba"
      },
      "source": [
        "df.columns"
      ],
      "execution_count": null,
      "outputs": [
        {
          "output_type": "execute_result",
          "data": {
            "text/plain": [
              "Index(['Location', 'Patient Identifier', 'Age', 'Race', 'Marital Status',\n",
              "       'Gestational Age at time of joining (weeks)', 'PSH', 'Past Pregnancy',\n",
              "       'Food Sources/Insecurities', 'Education Level',\n",
              "       'Previous Utilization of Telehealth/Telemonitoring',\n",
              "       'Previous Breastfeeding', 'Intention to Breastfeed',\n",
              "       'Birthplan Initiation', 'Do You Have Knowledge You Need (@baseline)',\n",
              "       'Do You Know Where To Get Support (@baseline)',\n",
              "       'Self Advocacy (@baseline)', 'Experiencing Violence',\n",
              "       '# of 1:1 Session', 'Support Group', 'Access Point', 'Type of Delivery',\n",
              "       'Weeks of Gestation@ delivery', 'Baby Weight at Birth', 'NICU',\n",
              "       'Postpartum Visits (with BLA)',\n",
              "       'BLA Increased My Knowledge (@exit interview)',\n",
              "       'BLA Improved My Outcomes  (@exit interview)',\n",
              "       'BLA Was Unbiased and Supportive  (@exit interview)',\n",
              "       'I Will Recommend BLA to Others  (@exit interview)',\n",
              "       'Do you trust your physician  ', 'House Type', 'No_of_Living',\n",
              "       'Medication_1', 'Medication_2', 'Medication_3', 'Allergies_1',\n",
              "       'Allergies_2', 'PMH_1', 'PMH_2', 'PMH_3', 'Health_Habits_1',\n",
              "       'Health_Habits_2', 'Class_Attended_1', 'Class_Attended_2',\n",
              "       'Class_Attended_3', 'Total_Pregnancy', 'Abortions', 'Miscarriage'],\n",
              "      dtype='object')"
            ]
          },
          "metadata": {},
          "execution_count": 13
        }
      ]
    },
    {
      "cell_type": "code",
      "source": [
        "df.columns"
      ],
      "metadata": {
        "colab": {
          "base_uri": "https://localhost:8080/"
        },
        "id": "7WzAKElO4LBk",
        "outputId": "ecb12e46-a692-46aa-dff7-37e2abbb3fa0"
      },
      "execution_count": 80,
      "outputs": [
        {
          "output_type": "execute_result",
          "data": {
            "text/plain": [
              "Index(['Location', 'Age', 'Race', 'Marital Status',\n",
              "       'Gestational Age at time of joining (weeks)', 'PMH ', 'PSH',\n",
              "       'Health Habits', 'Past Pregnancy', 'Living Conditions',\n",
              "       'Food Sources/Insecurities', 'Education Level', 'Medications',\n",
              "       'Allergies', 'Previous Utilization of Telehealth/Telemonitoring',\n",
              "       'Previous Breastfeeding', 'Intention to Breastfeed',\n",
              "       'Birthplan Initiation', 'Do You Have Knowledge You Need (@baseline)',\n",
              "       'Do You Know Where To Get Support (@baseline)',\n",
              "       'Self Advocacy (@baseline)', 'Experiencing Violence',\n",
              "       '# of 1:1 Session', 'Class Attended', 'Support Group', 'Access Point',\n",
              "       'Type of Delivery', 'Weeks of Gestation@ delivery',\n",
              "       'Baby Weight at Birth', 'NICU', 'Postpartum Visits (with BLA)',\n",
              "       'Do you trust your physician  ', 'Total_Pregnancy', 'Abortions',\n",
              "       'Miscarriage', 'Allergies_1', 'Allergies_2', 'House Type',\n",
              "       'No_of_Living', 'PMH_1', 'PMH_2', 'PMH_3', 'Health_Habits_1',\n",
              "       'Health_Habits_2', 'Class_Attended_1', 'Class_Attended_2',\n",
              "       'Class_Attended_3', 'Medication_1', 'Medication_2', 'Medication_3'],\n",
              "      dtype='object')"
            ]
          },
          "metadata": {},
          "execution_count": 80
        }
      ]
    },
    {
      "cell_type": "code",
      "source": [
        "df.to_csv(\"Final_allraces.csv\")"
      ],
      "metadata": {
        "id": "b6iYxXwO76tV"
      },
      "execution_count": 82,
      "outputs": []
    },
    {
      "cell_type": "code",
      "metadata": {
        "colab": {
          "base_uri": "https://localhost:8080/"
        },
        "id": "H9NUiH1CGRZt",
        "outputId": "f67ef250-5276-4221-95d0-843566805a9a"
      },
      "source": [
        "df.dtypes"
      ],
      "execution_count": null,
      "outputs": [
        {
          "output_type": "execute_result",
          "data": {
            "text/plain": [
              "Location                                               object\n",
              "Patient Identifier                                      int64\n",
              "Age                                                     int64\n",
              "Race                                                   object\n",
              "Marital Status                                         object\n",
              "Gestational Age at time of joining (weeks)              int64\n",
              "PSH                                                    object\n",
              "Past Pregnancy                                         object\n",
              "Food Sources/Insecurities                              object\n",
              "Education Level                                        object\n",
              "Previous Utilization of Telehealth/Telemonitoring      object\n",
              "Previous Breastfeeding                                 object\n",
              "Intention to Breastfeed                                object\n",
              "Birthplan Initiation                                   object\n",
              "Do You Have Knowledge You Need (@baseline)             object\n",
              "Do You Know Where To Get Support (@baseline)           object\n",
              "Self Advocacy (@baseline)                              object\n",
              "Experiencing Violence                                  object\n",
              "# of 1:1 Session                                        int64\n",
              "Support Group                                          object\n",
              "Access Point                                           object\n",
              "Type of Delivery                                       object\n",
              "Weeks of Gestation@ delivery                          float64\n",
              "Baby Weight at Birth                                  float64\n",
              "NICU                                                   object\n",
              "Postpartum Visits (with BLA)                            int64\n",
              "BLA Increased My Knowledge (@exit interview)           object\n",
              "BLA Improved My Outcomes  (@exit interview)            object\n",
              "BLA Was Unbiased and Supportive  (@exit interview)     object\n",
              "I Will Recommend BLA to Others  (@exit interview)      object\n",
              "Do you trust your physician                            object\n",
              "House Type                                             object\n",
              "No_of_Living                                            int64\n",
              "Medication_1                                           object\n",
              "Medication_2                                           object\n",
              "Medication_3                                           object\n",
              "Allergies_1                                            object\n",
              "Allergies_2                                            object\n",
              "PMH_1                                                  object\n",
              "PMH_2                                                  object\n",
              "PMH_3                                                  object\n",
              "Health_Habits_1                                        object\n",
              "Health_Habits_2                                        object\n",
              "Class_Attended_1                                       object\n",
              "Class_Attended_2                                       object\n",
              "Class_Attended_3                                       object\n",
              "Total_Pregnancy                                        object\n",
              "Abortions                                              object\n",
              "Miscarriage                                            object\n",
              "dtype: object"
            ]
          },
          "metadata": {},
          "execution_count": 14
        }
      ]
    },
    {
      "cell_type": "code",
      "source": [
        "df.to_csv(\"Final_Allraces.csv\")"
      ],
      "metadata": {
        "id": "GyJFYYj75ncs"
      },
      "execution_count": null,
      "outputs": []
    },
    {
      "cell_type": "code",
      "metadata": {
        "id": "Dp6edRvqwzX5",
        "colab": {
          "base_uri": "https://localhost:8080/"
        },
        "outputId": "cf8072d7-5f17-47ef-9ea4-c5395fe1629d"
      },
      "source": [
        "!pip install category_encoders\n",
        "import category_encoders as ce"
      ],
      "execution_count": null,
      "outputs": [
        {
          "output_type": "stream",
          "name": "stdout",
          "text": [
            "Requirement already satisfied: category_encoders in /usr/local/lib/python3.7/dist-packages (2.3.0)\n",
            "Requirement already satisfied: scipy>=1.0.0 in /usr/local/lib/python3.7/dist-packages (from category_encoders) (1.4.1)\n",
            "Requirement already satisfied: numpy>=1.14.0 in /usr/local/lib/python3.7/dist-packages (from category_encoders) (1.19.5)\n",
            "Requirement already satisfied: statsmodels>=0.9.0 in /usr/local/lib/python3.7/dist-packages (from category_encoders) (0.10.2)\n",
            "Requirement already satisfied: patsy>=0.5.1 in /usr/local/lib/python3.7/dist-packages (from category_encoders) (0.5.2)\n",
            "Requirement already satisfied: pandas>=0.21.1 in /usr/local/lib/python3.7/dist-packages (from category_encoders) (1.1.5)\n",
            "Requirement already satisfied: scikit-learn>=0.20.0 in /usr/local/lib/python3.7/dist-packages (from category_encoders) (1.0.1)\n",
            "Requirement already satisfied: pytz>=2017.2 in /usr/local/lib/python3.7/dist-packages (from pandas>=0.21.1->category_encoders) (2018.9)\n",
            "Requirement already satisfied: python-dateutil>=2.7.3 in /usr/local/lib/python3.7/dist-packages (from pandas>=0.21.1->category_encoders) (2.8.2)\n",
            "Requirement already satisfied: six in /usr/local/lib/python3.7/dist-packages (from patsy>=0.5.1->category_encoders) (1.15.0)\n",
            "Requirement already satisfied: threadpoolctl>=2.0.0 in /usr/local/lib/python3.7/dist-packages (from scikit-learn>=0.20.0->category_encoders) (3.0.0)\n",
            "Requirement already satisfied: joblib>=0.11 in /usr/local/lib/python3.7/dist-packages (from scikit-learn>=0.20.0->category_encoders) (1.1.0)\n"
          ]
        }
      ]
    },
    {
      "cell_type": "code",
      "metadata": {
        "id": "1JxzUYBZyGHF"
      },
      "source": [
        "temp_df = df"
      ],
      "execution_count": null,
      "outputs": []
    },
    {
      "cell_type": "code",
      "metadata": {
        "colab": {
          "base_uri": "https://localhost:8080/"
        },
        "id": "hKKA3Z7Pued4",
        "outputId": "304648ad-ca47-4da0-b9cd-bfa982370911"
      },
      "source": [
        "df['Race'].value_counts()"
      ],
      "execution_count": null,
      "outputs": [
        {
          "output_type": "execute_result",
          "data": {
            "text/plain": [
              "Black     37\n",
              "Black     23\n",
              "Name: Race, dtype: int64"
            ]
          },
          "metadata": {},
          "execution_count": 42
        }
      ]
    },
    {
      "cell_type": "code",
      "metadata": {
        "id": "WMO7owO8uPsb"
      },
      "source": [
        "new_df = df[df['Race']=='Black']"
      ],
      "execution_count": null,
      "outputs": []
    },
    {
      "cell_type": "code",
      "metadata": {
        "colab": {
          "base_uri": "https://localhost:8080/"
        },
        "id": "l2qPwhnsuWsZ",
        "outputId": "b9874fa7-f2e4-43c9-f4b7-829b742f7e6c"
      },
      "source": [
        "new_df['Race'].value_counts()"
      ],
      "execution_count": null,
      "outputs": [
        {
          "output_type": "execute_result",
          "data": {
            "text/plain": [
              "Black    23\n",
              "Name: Race, dtype: int64"
            ]
          },
          "metadata": {},
          "execution_count": 44
        }
      ]
    },
    {
      "cell_type": "code",
      "metadata": {
        "id": "TErSPansy0Ux"
      },
      "source": [
        "df = df.fillna('None')"
      ],
      "execution_count": null,
      "outputs": []
    },
    {
      "cell_type": "code",
      "metadata": {
        "colab": {
          "base_uri": "https://localhost:8080/"
        },
        "id": "miRKjfiby4or",
        "outputId": "83591db0-807c-49fd-b63f-67d7b5fe180f"
      },
      "source": [
        "df.dtypes"
      ],
      "execution_count": null,
      "outputs": [
        {
          "output_type": "execute_result",
          "data": {
            "text/plain": [
              "Location                                               object\n",
              "Patient Identifier                                      int64\n",
              "Age                                                     int64\n",
              "Race                                                   object\n",
              "Marital Status                                         object\n",
              "Gestational Age at time of joining (weeks)              int64\n",
              "PSH                                                    object\n",
              "Past Pregnancy                                         object\n",
              "Food Sources/Insecurities                              object\n",
              "Education Level                                        object\n",
              "Previous Utilization of Telehealth/Telemonitoring      object\n",
              "Previous Breastfeeding                                 object\n",
              "Intention to Breastfeed                                object\n",
              "Birthplan Initiation                                   object\n",
              "Do You Have Knowledge You Need (@baseline)             object\n",
              "Do You Know Where To Get Support (@baseline)           object\n",
              "Self Advocacy (@baseline)                              object\n",
              "Experiencing Violence                                  object\n",
              "# of 1:1 Session                                        int64\n",
              "Support Group                                          object\n",
              "Access Point                                           object\n",
              "Type of Delivery                                       object\n",
              "Weeks of Gestation@ delivery                          float64\n",
              "Baby Weight at Birth                                  float64\n",
              "NICU                                                   object\n",
              "Postpartum Visits (with BLA)                            int64\n",
              "BLA Increased My Knowledge (@exit interview)           object\n",
              "BLA Improved My Outcomes  (@exit interview)            object\n",
              "BLA Was Unbiased and Supportive  (@exit interview)     object\n",
              "I Will Recommend BLA to Others  (@exit interview)      object\n",
              "Do you trust your physician                            object\n",
              "House Type                                             object\n",
              "No_of_Living                                            int64\n",
              "Medication_1                                           object\n",
              "Medication_2                                           object\n",
              "Medication_3                                           object\n",
              "Allergies_1                                            object\n",
              "Allergies_2                                            object\n",
              "PMH_1                                                  object\n",
              "PMH_2                                                  object\n",
              "PMH_3                                                  object\n",
              "Health_Habits_1                                        object\n",
              "Health_Habits_2                                        object\n",
              "Class_Attended_1                                       object\n",
              "Class_Attended_2                                       object\n",
              "Class_Attended_3                                       object\n",
              "Total_Pregnancy                                        object\n",
              "Abortions                                              object\n",
              "Miscarriage                                            object\n",
              "dtype: object"
            ]
          },
          "metadata": {},
          "execution_count": 46
        }
      ]
    },
    {
      "cell_type": "code",
      "metadata": {
        "id": "eGgAcuNoG-z2"
      },
      "source": [
        "df = df.drop(['Past Pregnancy','Patient Identifier','I Will Recommend BLA to Others  (@exit interview)','BLA Was Unbiased and Supportive  (@exit interview)','BLA Improved My Outcomes  (@exit interview)','BLA Increased My Knowledge (@exit interview)'],axis=1)"
      ],
      "execution_count": null,
      "outputs": []
    },
    {
      "cell_type": "code",
      "metadata": {
        "id": "pM-Vx-Q1y7SH"
      },
      "source": [
        "df[\"Location\"] = df[\"Location\"].astype('category')\n",
        "df[\"Race\"] = df[\"Race\"].astype('category')\n",
        "df[\"Marital Status\"] = df[\"Marital Status\"].astype('category')\n",
        "df[\"PSH\"] = df[\"PSH\"].astype('category')\n",
        "df[\"Food Sources/Insecurities\"] = df[\"Food Sources/Insecurities\"].astype('category')\n",
        "df[\"Previous Utilization of Telehealth/Telemonitoring\"] = df[\"Previous Utilization of Telehealth/Telemonitoring\"].astype('category')\n",
        "df[\"Previous Breastfeeding\"] = df[\"Previous Breastfeeding\"].astype('category')\n",
        "df[\"Intention to Breastfeed\"] = df[\"Intention to Breastfeed\"].astype('category')\n",
        "df[\"Birthplan Initiation\"] = df[\"Birthplan Initiation\"].astype('category')\n",
        "df[\"Do You Have Knowledge You Need (@baseline)\"] = df[\"Do You Have Knowledge You Need (@baseline)\"].astype('category')\n",
        "df[\"Do You Know Where To Get Support (@baseline)\"] = df[\"Do You Know Where To Get Support (@baseline)\"].astype('category')\n",
        "df[\"Self Advocacy (@baseline)\"] = df[\"Self Advocacy (@baseline)\"].astype('category')\n",
        "df[\"Experiencing Violence\"] = df[\"Experiencing Violence\"].astype('category')\n",
        "df[\"Education Level\"] = df[\"Education Level\"].astype('category')\n",
        "df[\"Support Group\"] = df[\"Support Group\"].astype('category')\n",
        "df[\"Access Point\"] = df[\"Access Point\"].astype('category')\n",
        "df[\"Type of Delivery\"] = df[\"Type of Delivery\"].astype('category')\n",
        "df[\"NICU\"] = df[\"NICU\"].astype('category')\n",
        "#df[\"BLA Increased My Knowledge (@exit interview)\"] = df[\"BLA Increased My Knowledge (@exit interview)\"].astype('category')\n",
        "#df[\"BLA Improved My Outcomes  (@exit interview)\"] = df[\"BLA Improved My Outcomes  (@exit interview)\"].astype('category')\n",
        "#df[\"BLA Was Unbiased and Supportive  (@exit interview)\"] = df[\"BLA Was Unbiased and Supportive  (@exit interview)\"].astype('category')\n",
        "#df[\"I Will Recommend BLA to Others  (@exit interview)\"] = df[\"I Will Recommend BLA to Others  (@exit interview)\"].astype('category')\n",
        "df[\"Do you trust your physician\\xa0\\xa0\"] = df[\"Do you trust your physician\\xa0\\xa0\"].astype('category')\n",
        "df[\"House Type\"] = df[\"House Type\"].astype('category')\n",
        "df[\"Medication_1\"] = df[\"Medication_1\"].astype('category')\n",
        "df[\"Medication_2\"] = df[\"Medication_2\"].astype('category')\n",
        "df[\"Medication_3\"] = df[\"Medication_3\"].astype('category')\n",
        "df[\"Allergies_1\"] = df[\"Allergies_1\"].astype('category')\n",
        "df[\"Allergies_2\"] = df[\"Allergies_2\"].astype('category')\n",
        "df[\"PMH_1\"] = df[\"PMH_1\"].astype('category')\n",
        "df[\"PMH_2\"] = df[\"PMH_2\"].astype('category')\n",
        "df[\"PMH_3\"] = df[\"PMH_3\"].astype('category')\n",
        "df[\"Health_Habits_1\"] = df[\"Health_Habits_1\"].astype('category')\n",
        "df[\"Health_Habits_2\"] = df[\"Health_Habits_2\"].astype('category')\n",
        "df[\"Class_Attended_1\"] = df[\"Class_Attended_1\"].astype('category')\n",
        "df[\"Class_Attended_2\"] = df[\"Class_Attended_2\"].astype('category')\n",
        "df[\"Class_Attended_3\"] = df[\"Class_Attended_3\"].astype('category')\n",
        "df[\"Total_Pregnancy\"] = df[\"Total_Pregnancy\"].astype('category')\n",
        "df[\"Abortions\"] = df[\"Abortions\"].astype('category')\n",
        "df[\"Miscarriage\"] = df[\"Miscarriage\"].astype('category')\n",
        "\n"
      ],
      "execution_count": null,
      "outputs": []
    },
    {
      "cell_type": "code",
      "metadata": {
        "id": "qNoWvaBM5qVu"
      },
      "source": [
        "temp_df_1 = df"
      ],
      "execution_count": null,
      "outputs": []
    },
    {
      "cell_type": "code",
      "metadata": {
        "colab": {
          "base_uri": "https://localhost:8080/"
        },
        "id": "VVxbPXA2Ni5Q",
        "outputId": "ca8fd1a2-5b88-46e1-d5b0-70733531c9bb"
      },
      "source": [
        "df.dtypes"
      ],
      "execution_count": null,
      "outputs": [
        {
          "output_type": "execute_result",
          "data": {
            "text/plain": [
              "Location                                             category\n",
              "Age                                                     int64\n",
              "Race                                                 category\n",
              "Marital Status                                       category\n",
              "Gestational Age at time of joining (weeks)              int64\n",
              "PSH                                                  category\n",
              "Food Sources/Insecurities                            category\n",
              "Education Level                                      category\n",
              "Previous Utilization of Telehealth/Telemonitoring    category\n",
              "Previous Breastfeeding                               category\n",
              "Intention to Breastfeed                              category\n",
              "Birthplan Initiation                                 category\n",
              "Do You Have Knowledge You Need (@baseline)           category\n",
              "Do You Know Where To Get Support (@baseline)         category\n",
              "Self Advocacy (@baseline)                            category\n",
              "Experiencing Violence                                category\n",
              "# of 1:1 Session                                        int64\n",
              "Support Group                                        category\n",
              "Access Point                                         category\n",
              "Type of Delivery                                     category\n",
              "Weeks of Gestation@ delivery                          float64\n",
              "Baby Weight at Birth                                  float64\n",
              "NICU                                                 category\n",
              "Postpartum Visits (with BLA)                            int64\n",
              "Do you trust your physician                          category\n",
              "House Type                                           category\n",
              "No_of_Living                                            int64\n",
              "Medication_1                                         category\n",
              "Medication_2                                         category\n",
              "Medication_3                                         category\n",
              "Allergies_1                                          category\n",
              "Allergies_2                                          category\n",
              "PMH_1                                                category\n",
              "PMH_2                                                category\n",
              "PMH_3                                                category\n",
              "Health_Habits_1                                      category\n",
              "Health_Habits_2                                      category\n",
              "Class_Attended_1                                     category\n",
              "Class_Attended_2                                     category\n",
              "Class_Attended_3                                     category\n",
              "Total_Pregnancy                                      category\n",
              "Abortions                                            category\n",
              "Miscarriage                                          category\n",
              "dtype: object"
            ]
          },
          "metadata": {},
          "execution_count": 50
        }
      ]
    },
    {
      "cell_type": "code",
      "metadata": {
        "id": "Y_eghhXA4kl2"
      },
      "source": [
        "df[\"Location\"] = df[\"Location\"].cat.codes\n",
        "df[\"Race\"] = df[\"Race\"].cat.codes\n",
        "df[\"Marital Status\"] = df[\"Marital Status\"].cat.codes\n",
        "df[\"PSH\"] = df[\"PSH\"].cat.codes\n",
        "df[\"Food Sources/Insecurities\"] = df[\"Food Sources/Insecurities\"].cat.codes\n",
        "df[\"Previous Utilization of Telehealth/Telemonitoring\"] = df[\"Previous Utilization of Telehealth/Telemonitoring\"].cat.codes\n",
        "df[\"Previous Breastfeeding\"] = df[\"Previous Breastfeeding\"].cat.codes\n",
        "df[\"Intention to Breastfeed\"] = df[\"Intention to Breastfeed\"].cat.codes\n",
        "df[\"Birthplan Initiation\"] = df[\"Birthplan Initiation\"].cat.codes\n",
        "df[\"Do You Have Knowledge You Need (@baseline)\"] = df[\"Do You Have Knowledge You Need (@baseline)\"].cat.codes\n",
        "df[\"Do You Know Where To Get Support (@baseline)\"] = df[\"Do You Know Where To Get Support (@baseline)\"].cat.codes\n",
        "df[\"Self Advocacy (@baseline)\"] = df[\"Self Advocacy (@baseline)\"].cat.codes\n",
        "df[\"Experiencing Violence\"] = df[\"Experiencing Violence\"].cat.codes\n",
        "df[\"Support Group\"] = df[\"Support Group\"].cat.codes\n",
        "df[\"Access Point\"] = df[\"Access Point\"].cat.codes\n",
        "df[\"Type of Delivery\"] = df[\"Type of Delivery\"].cat.codes\n",
        "df[\"NICU\"] = df[\"NICU\"].cat.codes\n",
        "#df[\"BLA Increased My Knowledge (@exit interview)\"] = df[\"BLA Increased My Knowledge (@exit interview)\"].cat.codes\n",
        "#df[\"BLA Improved My Outcomes  (@exit interview)\"] = df[\"BLA Improved My Outcomes  (@exit interview)\"].cat.codes\n",
        "#df[\"BLA Was Unbiased and Supportive  (@exit interview)\"] = df[\"BLA Was Unbiased and Supportive  (@exit interview)\"].cat.codes\n",
        "#df[\"I Will Recommend BLA to Others  (@exit interview)\"] = df[\"I Will Recommend BLA to Others  (@exit interview)\"].cat.codes\n",
        "df[\"Do you trust your physician\\xa0\\xa0\"] = df[\"Do you trust your physician\\xa0\\xa0\"].cat.codes\n",
        "df[\"House Type\"] = df[\"House Type\"].cat.codes\n",
        "df[\"Medication_1\"] = df[\"Medication_1\"].cat.codes\n",
        "df[\"Medication_2\"] = df[\"Medication_2\"].cat.codes\n",
        "df[\"Medication_3\"] = df[\"Medication_3\"].cat.codes\n",
        "df[\"Allergies_1\"] = df[\"Allergies_1\"].cat.codes\n",
        "df[\"Allergies_2\"] = df[\"Allergies_2\"].cat.codes\n",
        "df[\"PMH_1\"] = df[\"PMH_1\"].cat.codes\n",
        "df[\"PMH_2\"] = df[\"PMH_2\"].cat.codes\n",
        "df[\"PMH_3\"] = df[\"PMH_3\"].cat.codes\n",
        "df[\"Health_Habits_1\"] = df[\"Health_Habits_1\"].cat.codes\n",
        "df[\"Health_Habits_2\"] = df[\"Health_Habits_2\"].cat.codes\n",
        "df[\"Education Level\"] = df[\"Education Level\"].cat.codes\n",
        "df[\"Class_Attended_1\"] = df[\"Class_Attended_1\"].cat.codes\n",
        "df[\"Class_Attended_2\"] = df[\"Class_Attended_2\"].cat.codes\n",
        "df[\"Class_Attended_3\"] = df[\"Class_Attended_3\"].cat.codes\n",
        "df[\"Total_Pregnancy\"] = df[\"Total_Pregnancy\"].cat.codes\n",
        "df[\"Abortions\"] = df[\"Abortions\"].cat.codes\n",
        "df[\"Miscarriage\"] = df[\"Miscarriage\"].cat.codes\n"
      ],
      "execution_count": null,
      "outputs": []
    },
    {
      "cell_type": "code",
      "metadata": {
        "id": "0TKiavnd66ds"
      },
      "source": [
        ""
      ],
      "execution_count": null,
      "outputs": []
    },
    {
      "cell_type": "code",
      "metadata": {
        "id": "9UZmFkvq7kHg"
      },
      "source": [
        "temp_df_final = df"
      ],
      "execution_count": null,
      "outputs": []
    },
    {
      "cell_type": "code",
      "metadata": {
        "id": "faHMir867qgZ"
      },
      "source": [
        "temp_df_final = temp_df_final.drop(['NICU'],axis=1)"
      ],
      "execution_count": null,
      "outputs": []
    },
    {
      "cell_type": "code",
      "metadata": {
        "id": "JWIYwofq8AaZ"
      },
      "source": [
        "X = temp_df_final\n",
        "y = df['NICU']"
      ],
      "execution_count": null,
      "outputs": []
    },
    {
      "cell_type": "code",
      "metadata": {
        "colab": {
          "base_uri": "https://localhost:8080/"
        },
        "id": "_Mck7l8d8S60",
        "outputId": "eb038e6e-08a2-4479-d645-47f06e2c2c8b"
      },
      "source": [
        "X.shape"
      ],
      "execution_count": null,
      "outputs": [
        {
          "output_type": "execute_result",
          "data": {
            "text/plain": [
              "(60, 42)"
            ]
          },
          "metadata": {},
          "execution_count": 55
        }
      ]
    },
    {
      "cell_type": "code",
      "metadata": {
        "colab": {
          "base_uri": "https://localhost:8080/"
        },
        "id": "km-R3Xm88Vqq",
        "outputId": "2db54832-8fa3-42ff-9330-b1d624f86ccd"
      },
      "source": [
        "y"
      ],
      "execution_count": null,
      "outputs": [
        {
          "output_type": "execute_result",
          "data": {
            "text/plain": [
              "0     0\n",
              "1     0\n",
              "2     0\n",
              "3     0\n",
              "4     0\n",
              "5     0\n",
              "6     0\n",
              "7     0\n",
              "8     0\n",
              "9     0\n",
              "10    0\n",
              "11    0\n",
              "12    1\n",
              "13    1\n",
              "14    1\n",
              "15    1\n",
              "16    1\n",
              "17    1\n",
              "18    1\n",
              "19    3\n",
              "20    1\n",
              "21    1\n",
              "22    3\n",
              "23    1\n",
              "24    1\n",
              "25    1\n",
              "26    1\n",
              "27    1\n",
              "28    1\n",
              "29    3\n",
              "30    3\n",
              "31    1\n",
              "32    1\n",
              "33    1\n",
              "34    1\n",
              "35    1\n",
              "36    1\n",
              "37    1\n",
              "38    1\n",
              "39    1\n",
              "40    1\n",
              "41    3\n",
              "42    1\n",
              "43    1\n",
              "44    1\n",
              "45    1\n",
              "46    1\n",
              "47    0\n",
              "48    0\n",
              "49    0\n",
              "50    0\n",
              "51    0\n",
              "52    2\n",
              "53    1\n",
              "54    1\n",
              "55    3\n",
              "56    1\n",
              "57    1\n",
              "58    1\n",
              "59    1\n",
              "Name: NICU, dtype: int8"
            ]
          },
          "metadata": {},
          "execution_count": 56
        }
      ]
    },
    {
      "cell_type": "code",
      "metadata": {
        "id": "RtfaWRAV7EHD"
      },
      "source": [
        "from sklearn.model_selection import train_test_split\n",
        "\n",
        "X_train, X_val, y_train, y_val = train_test_split(X, y, test_size=0.2, random_state=0)"
      ],
      "execution_count": null,
      "outputs": []
    },
    {
      "cell_type": "code",
      "metadata": {
        "colab": {
          "base_uri": "https://localhost:8080/",
          "height": 347,
          "referenced_widgets": [
            "ac3445eb8f0a4b90950753fafa6f667c"
          ]
        },
        "id": "8JlHuTcd8mdn",
        "outputId": "ae51cf13-192b-421b-a0d9-b93ea17d9d66"
      },
      "source": [
        "!pip install catboost\n",
        "from catboost import CatBoostClassifier\n",
        "\n",
        "clf = CatBoostClassifier(\n",
        "    iterations=500,\n",
        "    #random_seed=42,\n",
        "    learning_rate=1,\n",
        "    custom_loss=['AUC', 'Accuracy']\n",
        ")\n",
        "\n",
        "clf.fit(\n",
        "    X_train, y_train,\n",
        "    eval_set=(X_val, y_val),\n",
        "    verbose=False,\n",
        "    plot=True\n",
        ")"
      ],
      "execution_count": null,
      "outputs": [
        {
          "output_type": "stream",
          "name": "stdout",
          "text": [
            "Collecting catboost\n",
            "  Downloading catboost-1.0.3-cp37-none-manylinux1_x86_64.whl (76.3 MB)\n",
            "\u001b[K     |████████████████████████████████| 76.3 MB 1.2 MB/s \n",
            "\u001b[?25hRequirement already satisfied: graphviz in /usr/local/lib/python3.7/dist-packages (from catboost) (0.10.1)\n",
            "Requirement already satisfied: scipy in /usr/local/lib/python3.7/dist-packages (from catboost) (1.4.1)\n",
            "Requirement already satisfied: numpy>=1.16.0 in /usr/local/lib/python3.7/dist-packages (from catboost) (1.19.5)\n",
            "Requirement already satisfied: plotly in /usr/local/lib/python3.7/dist-packages (from catboost) (4.4.1)\n",
            "Requirement already satisfied: six in /usr/local/lib/python3.7/dist-packages (from catboost) (1.15.0)\n",
            "Requirement already satisfied: pandas>=0.24.0 in /usr/local/lib/python3.7/dist-packages (from catboost) (1.1.5)\n",
            "Requirement already satisfied: matplotlib in /usr/local/lib/python3.7/dist-packages (from catboost) (3.2.2)\n",
            "Requirement already satisfied: python-dateutil>=2.7.3 in /usr/local/lib/python3.7/dist-packages (from pandas>=0.24.0->catboost) (2.8.2)\n",
            "Requirement already satisfied: pytz>=2017.2 in /usr/local/lib/python3.7/dist-packages (from pandas>=0.24.0->catboost) (2018.9)\n",
            "Requirement already satisfied: pyparsing!=2.0.4,!=2.1.2,!=2.1.6,>=2.0.1 in /usr/local/lib/python3.7/dist-packages (from matplotlib->catboost) (3.0.6)\n",
            "Requirement already satisfied: cycler>=0.10 in /usr/local/lib/python3.7/dist-packages (from matplotlib->catboost) (0.11.0)\n",
            "Requirement already satisfied: kiwisolver>=1.0.1 in /usr/local/lib/python3.7/dist-packages (from matplotlib->catboost) (1.3.2)\n",
            "Requirement already satisfied: retrying>=1.3.3 in /usr/local/lib/python3.7/dist-packages (from plotly->catboost) (1.3.3)\n",
            "Installing collected packages: catboost\n",
            "Successfully installed catboost-1.0.3\n"
          ]
        },
        {
          "output_type": "display_data",
          "data": {
            "application/vnd.jupyter.widget-view+json": {
              "model_id": "ac3445eb8f0a4b90950753fafa6f667c",
              "version_minor": 0,
              "version_major": 2
            },
            "text/plain": [
              "MetricVisualizer(layout=Layout(align_self='stretch', height='500px'))"
            ]
          },
          "metadata": {}
        },
        {
          "output_type": "execute_result",
          "data": {
            "text/plain": [
              "<catboost.core.CatBoostClassifier at 0x7fe74d945e50>"
            ]
          },
          "metadata": {},
          "execution_count": 58
        }
      ]
    },
    {
      "cell_type": "code",
      "metadata": {
        "id": "4C_ASFGr8zq4"
      },
      "source": [
        "from sklearn.metrics import confusion_matrix\n",
        "from sklearn.metrics import precision_score, recall_score, f1_score, accuracy_score"
      ],
      "execution_count": null,
      "outputs": []
    },
    {
      "cell_type": "code",
      "metadata": {
        "id": "H3jEUakL9W_J"
      },
      "source": [
        "final = clf.predict(data=X_val)"
      ],
      "execution_count": null,
      "outputs": []
    },
    {
      "cell_type": "code",
      "source": [
        "conf_matrix = confusion_matrix(y_true=y_val, y_pred=final)\n",
        "fig, ax = plt.subplots(figsize=(5, 5))\n",
        "ax.matshow(conf_matrix, cmap=plt.cm.Oranges, alpha=0.3)\n",
        "for i in range(conf_matrix.shape[0]):\n",
        "    for j in range(conf_matrix.shape[1]):\n",
        "        ax.text(x=j, y=i,s=conf_matrix[i, j], va='center', ha='center', size='xx-large')\n",
        " \n",
        "plt.xlabel('Predictions', fontsize=18)\n",
        "plt.ylabel('Actuals', fontsize=18)\n",
        "plt.title('Confusion Matrix', fontsize=18)\n",
        "plt.show()"
      ],
      "metadata": {
        "colab": {
          "base_uri": "https://localhost:8080/",
          "height": 358
        },
        "id": "xjhpjQsbBCrV",
        "outputId": "3568fdac-911e-470b-f2b3-85c9ef05143b"
      },
      "execution_count": null,
      "outputs": [
        {
          "output_type": "display_data",
          "data": {
            "image/png": "[encoded data removed]",
            "text/plain": [
              "<Figure size 360x360 with 1 Axes>"
            ]
          },
          "metadata": {}
        }
      ]
    },
    {
      "cell_type": "code",
      "metadata": {
        "colab": {
          "base_uri": "https://localhost:8080/"
        },
        "id": "PcI_L85B92YL",
        "outputId": "49a8c86f-ec85-4641-a491-ab588bf6bd10"
      },
      "source": [
        "print(\"The accuracy of the Model is {}\".format(accuracy_score(y_val,final)))\n",
        "print('F1 Score: %.3f' % f1_score(y_val,final,average = 'weighted'))"
      ],
      "execution_count": null,
      "outputs": [
        {
          "output_type": "stream",
          "name": "stdout",
          "text": [
            "The accuracy of the Model is 0.75\n",
            "F1 Score: 0.703\n"
          ]
        }
      ]
    },
    {
      "cell_type": "code",
      "metadata": {
        "colab": {
          "base_uri": "https://localhost:8080/",
          "height": 746
        },
        "id": "vRCeQixt-AXH",
        "outputId": "6a5011a2-afef-4d31-f73b-ad67214d55ba"
      },
      "source": [
        "import seaborn as sns\n",
        "sns.set(rc = {'figure.figsize':(15,8)})\n",
        "corr = df.corr()\n",
        "ax = sns.heatmap(\n",
        "    corr, \n",
        "    vmin=-1, vmax=1, center=0,\n",
        "    cmap=sns.diverging_palette(20, 220, n=200),\n",
        "    square=True\n",
        ")\n",
        "ax.set_xticklabels(\n",
        "    ax.get_xticklabels(),\n",
        "    horizontalalignment='right'\n",
        ");"
      ],
      "execution_count": null,
      "outputs": [
        {
          "output_type": "display_data",
          "data": {
            "image/png": "[encoded data removed]",
            "text/plain": [
              "<Figure size 1080x576 with 2 Axes>"
            ]
          },
          "metadata": {}
        }
      ]
    },
    {
      "cell_type": "code",
      "metadata": {
        "id": "T5AYv-arQGKW"
      },
      "source": [
        "corr_matrix = df.corr().abs()\n",
        "\n",
        "\n",
        "upper = corr_matrix.where(np.triu(np.ones(corr_matrix.shape), k=1).astype(np.bool))\n",
        "\n",
        "\n",
        "to_drop = [column for column in upper.columns if any(upper[column] > 0.5)]\n",
        "\n",
        "# Drop features \n",
        "#df.drop(df[to_drop], axis=1)"
      ],
      "execution_count": null,
      "outputs": []
    },
    {
      "cell_type": "code",
      "metadata": {
        "colab": {
          "base_uri": "https://localhost:8080/"
        },
        "id": "d_8Yx2mVRc2c",
        "outputId": "0a0746a3-c12a-478c-a9c0-e495964f7ce9"
      },
      "source": [
        "to_drop"
      ],
      "execution_count": null,
      "outputs": [
        {
          "output_type": "execute_result",
          "data": {
            "text/plain": [
              "['Food Sources/Insecurities',\n",
              " 'Previous Breastfeeding',\n",
              " 'Do You Know Where To Get Support (@baseline)',\n",
              " 'Weeks of Gestation@ delivery',\n",
              " 'NICU',\n",
              " 'Postpartum Visits (with BLA)',\n",
              " 'PMH_3',\n",
              " 'Total_Pregnancy',\n",
              " 'Miscarriage']"
            ]
          },
          "metadata": {},
          "execution_count": 64
        }
      ]
    },
    {
      "cell_type": "code",
      "metadata": {
        "colab": {
          "base_uri": "https://localhost:8080/",
          "height": 677
        },
        "id": "4fb56y-wcRVx",
        "outputId": "ca6707ec-0327-4a17-abb0-d854748cf437"
      },
      "source": [
        "from matplotlib.pyplot import figure\n",
        "feat_importances = pd.Series(clf.feature_importances_, index=X.columns)\n",
        "figure(figsize=(10, 10), dpi=80)\n",
        "\n",
        "feat_importances.nlargest(10).plot(kind='barh')"
      ],
      "execution_count": null,
      "outputs": [
        {
          "output_type": "execute_result",
          "data": {
            "text/plain": [
              "<matplotlib.axes._subplots.AxesSubplot at 0x7fe736a46c10>"
            ]
          },
          "metadata": {},
          "execution_count": 65
        },
        {
          "output_type": "display_data",
          "data": {
            "image/png": "[encoded data removed]",
            "text/plain": [
              "<Figure size 800x800 with 1 Axes>"
            ]
          },
          "metadata": {}
        }
      ]
    },
    {
      "cell_type": "code",
      "metadata": {
        "colab": {
          "base_uri": "https://localhost:8080/",
          "height": 677
        },
        "id": "A3prrrr4BBe7",
        "outputId": "640a6b73-2393-4e39-96d3-5b13deec67a9"
      },
      "source": [
        "from matplotlib.pyplot import figure\n",
        "feat_importances = pd.Series(clf.feature_importances_, index=X.columns)\n",
        "figure(figsize=(10, 10), dpi=80)\n",
        "\n",
        "feat_importances.nlargest(40).plot(kind='barh')"
      ],
      "execution_count": null,
      "outputs": [
        {
          "output_type": "execute_result",
          "data": {
            "text/plain": [
              "<matplotlib.axes._subplots.AxesSubplot at 0x7fe7359947d0>"
            ]
          },
          "metadata": {},
          "execution_count": 66
        },
        {
          "output_type": "display_data",
          "data": {
            "image/png": "[encoded data removed]",
            "text/plain": [
              "<Figure size 800x800 with 1 Axes>"
            ]
          },
          "metadata": {}
        }
      ]
    },
    {
      "cell_type": "code",
      "metadata": {
        "id": "znydsmemcpZE"
      },
      "source": [
        "df['Duration'] = df['Weeks of Gestation@ delivery'] - df['Gestational Age at time of joining (weeks)']"
      ],
      "execution_count": null,
      "outputs": []
    },
    {
      "cell_type": "code",
      "metadata": {
        "id": "Fb_NaAk6exvG"
      },
      "source": [
        ""
      ],
      "execution_count": null,
      "outputs": []
    },
    {
      "cell_type": "code",
      "metadata": {
        "colab": {
          "base_uri": "https://localhost:8080/",
          "height": 1000
        },
        "id": "3AppBYmJe7Ky",
        "outputId": "4a103e64-fd79-4b55-f53e-ab7268dbfcaf"
      },
      "source": [
        "import matplotlib.pyplot as plt\n",
        "\n",
        "df.boxplot(return_type='axes',figsize=(50,50))\n"
      ],
      "execution_count": null,
      "outputs": [
        {
          "output_type": "execute_result",
          "data": {
            "text/plain": [
              "<matplotlib.axes._subplots.AxesSubplot at 0x7fa199b42090>"
            ]
          },
          "metadata": {},
          "execution_count": 18
        },
        {
          "output_type": "display_data",
          "data": {
            "image/png": "[encoded data removed]",
            "text/plain": [
              "<Figure size 3600x3600 with 1 Axes>"
            ]
          },
          "metadata": {
            "needs_background": "light"
          }
        }
      ]
    },
    {
      "cell_type": "code",
      "metadata": {
        "colab": {
          "base_uri": "https://localhost:8080/"
        },
        "id": "OW3ivjCKhpkj",
        "outputId": "a63484dc-2d0e-4581-e270-68edceff862a"
      },
      "source": [
        "df.dtypes"
      ],
      "execution_count": null,
      "outputs": [
        {
          "output_type": "execute_result",
          "data": {
            "text/plain": [
              "Location                                                 int8\n",
              "Patient Identifier                                      int64\n",
              "Age                                                     int64\n",
              "Race                                                     int8\n",
              "Marital Status                                           int8\n",
              "Gestational Age at time of joining (weeks)              int64\n",
              "PSH                                                      int8\n",
              "Past Pregnancy                                           int8\n",
              "Food Sources/Insecurities                                int8\n",
              "Education Level                                          int8\n",
              "Previous Utilization of Telehealth/Telemonitoring        int8\n",
              "Previous Breastfeeding                                   int8\n",
              "Intention to Breastfeed                                  int8\n",
              "Birthplan Initiation                                     int8\n",
              "Do You Have Knowledge You Need (@baseline)               int8\n",
              "Do You Know Where To Get Support (@baseline)             int8\n",
              "Self Advocacy (@baseline)                                int8\n",
              "Experiencing Violence                                    int8\n",
              "# of 1:1 Session                                        int64\n",
              "Support Group                                            int8\n",
              "Access Point                                             int8\n",
              "Type of Delivery                                         int8\n",
              "Weeks of Gestation@ delivery                          float64\n",
              "Baby Weight at Birth                                  float64\n",
              "NICU                                                     int8\n",
              "Postpartum Visits (with BLA)                            int64\n",
              "BLA Increased My Knowledge (@exit interview)             int8\n",
              "BLA Improved My Outcomes  (@exit interview)              int8\n",
              "BLA Was Unbiased and Supportive  (@exit interview)       int8\n",
              "I Will Recommend BLA to Others  (@exit interview)        int8\n",
              "Do you trust your physician                              int8\n",
              "House Type                                               int8\n",
              "No_of_Living                                            int64\n",
              "Medication_1                                             int8\n",
              "Medication_2                                             int8\n",
              "Medication_3                                             int8\n",
              "Allergies_1                                              int8\n",
              "Allergies_2                                              int8\n",
              "PMH_1                                                    int8\n",
              "PMH_2                                                    int8\n",
              "PMH_3                                                    int8\n",
              "Health_Habits_1                                          int8\n",
              "Health_Habits_2                                          int8\n",
              "Class_Attended_1                                         int8\n",
              "Class_Attended_2                                         int8\n",
              "Class_Attended_3                                         int8\n",
              "Duration                                              float64\n",
              "dtype: object"
            ]
          },
          "metadata": {},
          "execution_count": 59
        }
      ]
    },
    {
      "cell_type": "code",
      "metadata": {
        "colab": {
          "base_uri": "https://localhost:8080/"
        },
        "id": "WlA3b-sqg5s5",
        "outputId": "9863ac59-1ac4-4712-f57f-52e74291151a"
      },
      "source": [
        "df['Type of Delivery'].value_counts()"
      ],
      "execution_count": null,
      "outputs": [
        {
          "output_type": "execute_result",
          "data": {
            "text/plain": [
              "5    45\n",
              "4    19\n",
              "0     5\n",
              "2     3\n",
              "1     2\n",
              "3     1\n",
              "Name: Type of Delivery, dtype: int64"
            ]
          },
          "metadata": {},
          "execution_count": 60
        }
      ]
    },
    {
      "cell_type": "code",
      "metadata": {
        "id": "oNQEU8lOOaUw"
      },
      "source": [
        ""
      ],
      "execution_count": null,
      "outputs": []
    }
  ]
}